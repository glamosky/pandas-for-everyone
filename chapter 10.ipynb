{
 "cells": [
  {
   "cell_type": "markdown",
   "metadata": {},
   "source": [
    "Chapter 10 - Data Types"
   ]
  },
  {
   "cell_type": "code",
   "execution_count": 1,
   "metadata": {},
   "outputs": [],
   "source": [
    "import pandas as pd\n",
    "import seaborn as sns\n",
    "\n",
    "tips = sns.load_dataset('tips')"
   ]
  },
  {
   "cell_type": "code",
   "execution_count": 2,
   "metadata": {},
   "outputs": [
    {
     "name": "stdout",
     "output_type": "stream",
     "text": [
      "total_bill     float64\n",
      "tip            float64\n",
      "sex           category\n",
      "smoker        category\n",
      "day           category\n",
      "time          category\n",
      "size             int64\n",
      "dtype: object\n"
     ]
    }
   ],
   "source": [
    "print(tips.dtypes)"
   ]
  },
  {
   "cell_type": "code",
   "execution_count": 5,
   "metadata": {},
   "outputs": [],
   "source": [
    "# convert sex column into a string\n",
    "tips['sex_str'] = tips['sex'].astype(str)"
   ]
  },
  {
   "cell_type": "code",
   "execution_count": 9,
   "metadata": {},
   "outputs": [
    {
     "name": "stdout",
     "output_type": "stream",
     "text": [
      "total_bill          object\n",
      "tip                float64\n",
      "sex               category\n",
      "smoker            category\n",
      "day               category\n",
      "time              category\n",
      "size                 int64\n",
      "sex_str             object\n",
      "total_bill_str      object\n",
      "dtype: object\n"
     ]
    }
   ],
   "source": [
    "# convert total bill column into a string\n",
    "tips['total_bill'] = tips['total_bill'].astype(str)\n",
    "print(tips.dtypes)"
   ]
  },
  {
   "cell_type": "code",
   "execution_count": 10,
   "metadata": {},
   "outputs": [
    {
     "name": "stdout",
     "output_type": "stream",
     "text": [
      "total_bill         float64\n",
      "tip                float64\n",
      "sex               category\n",
      "smoker            category\n",
      "day               category\n",
      "time              category\n",
      "size                 int64\n",
      "sex_str             object\n",
      "total_bill_str      object\n",
      "dtype: object\n"
     ]
    }
   ],
   "source": [
    "# convert it back to float\n",
    "tips['total_bill'] = tips['total_bill'].astype(float)\n",
    "print(tips.dtypes)"
   ]
  },
  {
   "cell_type": "code",
   "execution_count": 11,
   "metadata": {},
   "outputs": [],
   "source": [
    "tips_sub_miss = tips.head(10).copy()"
   ]
  },
  {
   "cell_type": "code",
   "execution_count": 12,
   "metadata": {},
   "outputs": [
    {
     "name": "stdout",
     "output_type": "stream",
     "text": [
      "  total_bill   tip     sex smoker  day    time  size sex_str total_bill_str\n",
      "0      16.99  1.01  Female     No  Sun  Dinner     2  Female          16.99\n",
      "1    missing  1.66    Male     No  Sun  Dinner     3    Male          10.34\n",
      "2      21.01  3.50    Male     No  Sun  Dinner     3    Male          21.01\n",
      "3    missing  3.31    Male     No  Sun  Dinner     2    Male          23.68\n",
      "4      24.59  3.61  Female     No  Sun  Dinner     4  Female          24.59\n",
      "5    missing  4.71    Male     No  Sun  Dinner     4    Male          25.29\n",
      "6       8.77  2.00    Male     No  Sun  Dinner     2    Male           8.77\n",
      "7    missing  3.12    Male     No  Sun  Dinner     4    Male          26.88\n",
      "8      15.04  1.96    Male     No  Sun  Dinner     2    Male          15.04\n",
      "9      14.78  3.23    Male     No  Sun  Dinner     2    Male          14.78\n"
     ]
    }
   ],
   "source": [
    "tips_sub_miss.loc[[1, 3, 5, 7], 'total_bill'] = 'missing'\n",
    "print(tips_sub_miss)"
   ]
  },
  {
   "cell_type": "code",
   "execution_count": 13,
   "metadata": {},
   "outputs": [
    {
     "name": "stdout",
     "output_type": "stream",
     "text": [
      "total_bill          object\n",
      "tip                float64\n",
      "sex               category\n",
      "smoker            category\n",
      "day               category\n",
      "time              category\n",
      "size                 int64\n",
      "sex_str             object\n",
      "total_bill_str      object\n",
      "dtype: object\n"
     ]
    }
   ],
   "source": [
    "print(tips_sub_miss.dtypes)"
   ]
  },
  {
   "cell_type": "code",
   "execution_count": 14,
   "metadata": {},
   "outputs": [
    {
     "ename": "ValueError",
     "evalue": "Unable to parse string \"missing\" at position 1",
     "output_type": "error",
     "traceback": [
      "\u001b[1;31m---------------------------------------------------------------------------\u001b[0m",
      "\u001b[1;31mValueError\u001b[0m                                Traceback (most recent call last)",
      "File \u001b[1;32mc:\\Users\\franj\\anaconda3\\Lib\\site-packages\\pandas\\_libs\\lib.pyx:2280\u001b[0m, in \u001b[0;36mpandas._libs.lib.maybe_convert_numeric\u001b[1;34m()\u001b[0m\n",
      "\u001b[1;31mValueError\u001b[0m: Unable to parse string \"missing\"",
      "\nDuring handling of the above exception, another exception occurred:\n",
      "\u001b[1;31mValueError\u001b[0m                                Traceback (most recent call last)",
      "Cell \u001b[1;32mIn[14], line 2\u001b[0m\n\u001b[0;32m      1\u001b[0m \u001b[38;5;66;03m# this will cause an error\u001b[39;00m\n\u001b[1;32m----> 2\u001b[0m pd\u001b[38;5;241m.\u001b[39mto_numeric(tips_sub_miss[\u001b[38;5;124m'\u001b[39m\u001b[38;5;124mtotal_bill\u001b[39m\u001b[38;5;124m'\u001b[39m])\n",
      "File \u001b[1;32mc:\\Users\\franj\\anaconda3\\Lib\\site-packages\\pandas\\core\\tools\\numeric.py:217\u001b[0m, in \u001b[0;36mto_numeric\u001b[1;34m(arg, errors, downcast, dtype_backend)\u001b[0m\n\u001b[0;32m    215\u001b[0m coerce_numeric \u001b[38;5;241m=\u001b[39m errors \u001b[38;5;129;01mnot\u001b[39;00m \u001b[38;5;129;01min\u001b[39;00m (\u001b[38;5;124m\"\u001b[39m\u001b[38;5;124mignore\u001b[39m\u001b[38;5;124m\"\u001b[39m, \u001b[38;5;124m\"\u001b[39m\u001b[38;5;124mraise\u001b[39m\u001b[38;5;124m\"\u001b[39m)\n\u001b[0;32m    216\u001b[0m \u001b[38;5;28;01mtry\u001b[39;00m:\n\u001b[1;32m--> 217\u001b[0m     values, new_mask \u001b[38;5;241m=\u001b[39m lib\u001b[38;5;241m.\u001b[39mmaybe_convert_numeric(  \u001b[38;5;66;03m# type: ignore[call-overload]  # noqa\u001b[39;00m\n\u001b[0;32m    218\u001b[0m         values,\n\u001b[0;32m    219\u001b[0m         \u001b[38;5;28mset\u001b[39m(),\n\u001b[0;32m    220\u001b[0m         coerce_numeric\u001b[38;5;241m=\u001b[39mcoerce_numeric,\n\u001b[0;32m    221\u001b[0m         convert_to_masked_nullable\u001b[38;5;241m=\u001b[39mdtype_backend \u001b[38;5;129;01mis\u001b[39;00m \u001b[38;5;129;01mnot\u001b[39;00m lib\u001b[38;5;241m.\u001b[39mno_default\n\u001b[0;32m    222\u001b[0m         \u001b[38;5;129;01mor\u001b[39;00m \u001b[38;5;28misinstance\u001b[39m(values_dtype, StringDtype),\n\u001b[0;32m    223\u001b[0m     )\n\u001b[0;32m    224\u001b[0m \u001b[38;5;28;01mexcept\u001b[39;00m (\u001b[38;5;167;01mValueError\u001b[39;00m, \u001b[38;5;167;01mTypeError\u001b[39;00m):\n\u001b[0;32m    225\u001b[0m     \u001b[38;5;28;01mif\u001b[39;00m errors \u001b[38;5;241m==\u001b[39m \u001b[38;5;124m\"\u001b[39m\u001b[38;5;124mraise\u001b[39m\u001b[38;5;124m\"\u001b[39m:\n",
      "File \u001b[1;32mc:\\Users\\franj\\anaconda3\\Lib\\site-packages\\pandas\\_libs\\lib.pyx:2322\u001b[0m, in \u001b[0;36mpandas._libs.lib.maybe_convert_numeric\u001b[1;34m()\u001b[0m\n",
      "\u001b[1;31mValueError\u001b[0m: Unable to parse string \"missing\" at position 1"
     ]
    }
   ],
   "source": [
    "# this will cause an error\n",
    "pd.to_numeric(tips_sub_miss['total_bill'])"
   ]
  },
  {
   "cell_type": "code",
   "execution_count": 15,
   "metadata": {},
   "outputs": [
    {
     "name": "stdout",
     "output_type": "stream",
     "text": [
      "total_bill         float64\n",
      "tip                float64\n",
      "sex               category\n",
      "smoker            category\n",
      "day               category\n",
      "time              category\n",
      "size                 int64\n",
      "sex_str             object\n",
      "total_bill_str      object\n",
      "dtype: object\n"
     ]
    }
   ],
   "source": [
    "# coerce will convert the missing values to NaN\n",
    "tips_sub_miss['total_bill'] = pd.to_numeric(tips_sub_miss['total_bill'], errors='coerce')\n",
    "print(tips_sub_miss.dtypes)"
   ]
  },
  {
   "cell_type": "code",
   "execution_count": 16,
   "metadata": {},
   "outputs": [
    {
     "name": "stdout",
     "output_type": "stream",
     "text": [
      "   total_bill   tip     sex smoker  day    time  size sex_str total_bill_str\n",
      "0       16.99  1.01  Female     No  Sun  Dinner     2  Female          16.99\n",
      "1         NaN  1.66    Male     No  Sun  Dinner     3    Male          10.34\n",
      "2       21.01  3.50    Male     No  Sun  Dinner     3    Male          21.01\n",
      "3         NaN  3.31    Male     No  Sun  Dinner     2    Male          23.68\n",
      "4       24.59  3.61  Female     No  Sun  Dinner     4  Female          24.59\n",
      "5         NaN  4.71    Male     No  Sun  Dinner     4    Male          25.29\n",
      "6        8.77  2.00    Male     No  Sun  Dinner     2    Male           8.77\n",
      "7         NaN  3.12    Male     No  Sun  Dinner     4    Male          26.88\n",
      "8       15.04  1.96    Male     No  Sun  Dinner     2    Male          15.04\n",
      "9       14.78  3.23    Male     No  Sun  Dinner     2    Male          14.78\n"
     ]
    }
   ],
   "source": [
    "print(tips_sub_miss)"
   ]
  },
  {
   "cell_type": "code",
   "execution_count": 18,
   "metadata": {},
   "outputs": [
    {
     "name": "stdout",
     "output_type": "stream",
     "text": [
      "<class 'pandas.core.frame.DataFrame'>\n",
      "RangeIndex: 244 entries, 0 to 243\n",
      "Data columns (total 9 columns):\n",
      " #   Column          Non-Null Count  Dtype   \n",
      "---  ------          --------------  -----   \n",
      " 0   total_bill      244 non-null    float64 \n",
      " 1   tip             244 non-null    float64 \n",
      " 2   sex             244 non-null    object  \n",
      " 3   smoker          244 non-null    category\n",
      " 4   day             244 non-null    category\n",
      " 5   time            244 non-null    category\n",
      " 6   size            244 non-null    int64   \n",
      " 7   sex_str         244 non-null    object  \n",
      " 8   total_bill_str  244 non-null    object  \n",
      "dtypes: category(3), float64(2), int64(1), object(3)\n",
      "memory usage: 12.7+ KB\n",
      "None\n"
     ]
    }
   ],
   "source": [
    "# convert to category\n",
    "tips['sex'] = tips['sex'].astype('str')\n",
    "print(tips.info())"
   ]
  },
  {
   "cell_type": "code",
   "execution_count": 19,
   "metadata": {},
   "outputs": [
    {
     "name": "stdout",
     "output_type": "stream",
     "text": [
      "<class 'pandas.core.frame.DataFrame'>\n",
      "RangeIndex: 244 entries, 0 to 243\n",
      "Data columns (total 9 columns):\n",
      " #   Column          Non-Null Count  Dtype   \n",
      "---  ------          --------------  -----   \n",
      " 0   total_bill      244 non-null    float64 \n",
      " 1   tip             244 non-null    float64 \n",
      " 2   sex             244 non-null    category\n",
      " 3   smoker          244 non-null    category\n",
      " 4   day             244 non-null    category\n",
      " 5   time            244 non-null    category\n",
      " 6   size            244 non-null    int64   \n",
      " 7   sex_str         244 non-null    object  \n",
      " 8   total_bill_str  244 non-null    object  \n",
      "dtypes: category(4), float64(2), int64(1), object(2)\n",
      "memory usage: 11.2+ KB\n",
      "None\n"
     ]
    }
   ],
   "source": [
    "# convert it back to categorical\n",
    "tips['sex'] = tips['sex'].astype('category')\n",
    "print(tips.info())"
   ]
  }
 ],
 "metadata": {
  "kernelspec": {
   "display_name": "base",
   "language": "python",
   "name": "python3"
  },
  "language_info": {
   "codemirror_mode": {
    "name": "ipython",
    "version": 3
   },
   "file_extension": ".py",
   "mimetype": "text/x-python",
   "name": "python",
   "nbconvert_exporter": "python",
   "pygments_lexer": "ipython3",
   "version": "3.11.5"
  }
 },
 "nbformat": 4,
 "nbformat_minor": 2
}
