{
 "cells": [
  {
   "cell_type": "code",
   "execution_count": 1,
   "metadata": {},
   "outputs": [],
   "source": [
    "import pandas as pd"
   ]
  },
  {
   "cell_type": "markdown",
   "metadata": {},
   "source": [
    "Create DataFrame from List"
   ]
  },
  {
   "cell_type": "code",
   "execution_count": 2,
   "metadata": {},
   "outputs": [],
   "source": [
    "student_data = [[1, 15], [2, 11], [3, 11], [4, 20]]"
   ]
  },
  {
   "cell_type": "code",
   "execution_count": 3,
   "metadata": {},
   "outputs": [
    {
     "name": "stdout",
     "output_type": "stream",
     "text": [
      "   Student Number  Age\n",
      "0               1   15\n",
      "1               2   11\n",
      "2               3   11\n",
      "3               4   20\n"
     ]
    }
   ],
   "source": [
    "df = pd.DataFrame(student_data, columns=['Student Number', 'Age'])\n",
    "print(df)"
   ]
  },
  {
   "cell_type": "markdown",
   "metadata": {},
   "source": [
    "Get the Size of a DataFrame (List)"
   ]
  },
  {
   "cell_type": "code",
   "execution_count": 4,
   "metadata": {},
   "outputs": [
    {
     "data": {
      "text/plain": [
       "(4, 2)"
      ]
     },
     "execution_count": 4,
     "metadata": {},
     "output_type": "execute_result"
    }
   ],
   "source": [
    "df.shape"
   ]
  },
  {
   "cell_type": "markdown",
   "metadata": {},
   "source": [
    "Get the First 3 Rows"
   ]
  },
  {
   "cell_type": "code",
   "execution_count": 5,
   "metadata": {},
   "outputs": [
    {
     "data": {
      "application/vnd.microsoft.datawrangler.viewer.v0+json": {
       "columns": [
        {
         "name": "index",
         "rawType": "int64",
         "type": "integer"
        },
        {
         "name": "Student Number",
         "rawType": "int64",
         "type": "integer"
        },
        {
         "name": "Age",
         "rawType": "int64",
         "type": "integer"
        }
       ],
       "conversionMethod": "pd.DataFrame",
       "ref": "bfae8c37-6bbb-4ac2-ad81-6ccd723a5dc3",
       "rows": [
        [
         "0",
         "1",
         "15"
        ],
        [
         "1",
         "2",
         "11"
        ],
        [
         "2",
         "3",
         "11"
        ]
       ],
       "shape": {
        "columns": 2,
        "rows": 3
       }
      },
      "text/html": [
       "<div>\n",
       "<style scoped>\n",
       "    .dataframe tbody tr th:only-of-type {\n",
       "        vertical-align: middle;\n",
       "    }\n",
       "\n",
       "    .dataframe tbody tr th {\n",
       "        vertical-align: top;\n",
       "    }\n",
       "\n",
       "    .dataframe thead th {\n",
       "        text-align: right;\n",
       "    }\n",
       "</style>\n",
       "<table border=\"1\" class=\"dataframe\">\n",
       "  <thead>\n",
       "    <tr style=\"text-align: right;\">\n",
       "      <th></th>\n",
       "      <th>Student Number</th>\n",
       "      <th>Age</th>\n",
       "    </tr>\n",
       "  </thead>\n",
       "  <tbody>\n",
       "    <tr>\n",
       "      <th>0</th>\n",
       "      <td>1</td>\n",
       "      <td>15</td>\n",
       "    </tr>\n",
       "    <tr>\n",
       "      <th>1</th>\n",
       "      <td>2</td>\n",
       "      <td>11</td>\n",
       "    </tr>\n",
       "    <tr>\n",
       "      <th>2</th>\n",
       "      <td>3</td>\n",
       "      <td>11</td>\n",
       "    </tr>\n",
       "  </tbody>\n",
       "</table>\n",
       "</div>"
      ],
      "text/plain": [
       "   Student Number  Age\n",
       "0               1   15\n",
       "1               2   11\n",
       "2               3   11"
      ]
     },
     "execution_count": 5,
     "metadata": {},
     "output_type": "execute_result"
    }
   ],
   "source": [
    "df.head(3)"
   ]
  },
  {
   "cell_type": "markdown",
   "metadata": {},
   "source": [
    "Select Data"
   ]
  },
  {
   "cell_type": "code",
   "execution_count": 6,
   "metadata": {},
   "outputs": [
    {
     "name": "stdout",
     "output_type": "stream",
     "text": [
      "   Student ID        Name  Age\n",
      "0         101     Ulysses   13\n",
      "1         102    Penelope   14\n",
      "2         103  Telemachus   15\n",
      "3         104     Calypso   16\n"
     ]
    }
   ],
   "source": [
    "students = [[101, \"Ulysses\", 13], [102, \"Penelope\", 14], [103, \"Telemachus\", 15], [104, \"Calypso\", 16]]\n",
    "\n",
    "df = pd.DataFrame(students, columns=['Student ID', 'Name', 'Age'])\n",
    "\n",
    "print(df)"
   ]
  },
  {
   "cell_type": "code",
   "execution_count": 7,
   "metadata": {},
   "outputs": [
    {
     "data": {
      "application/vnd.microsoft.datawrangler.viewer.v0+json": {
       "columns": [
        {
         "name": "index",
         "rawType": "int64",
         "type": "integer"
        },
        {
         "name": "Name",
         "rawType": "object",
         "type": "string"
        },
        {
         "name": "Age",
         "rawType": "int64",
         "type": "integer"
        }
       ],
       "conversionMethod": "pd.DataFrame",
       "ref": "1836c602-20b5-4edc-a67e-d1de87767ed4",
       "rows": [
        [
         "0",
         "Ulysses",
         "13"
        ]
       ],
       "shape": {
        "columns": 2,
        "rows": 1
       }
      },
      "text/html": [
       "<div>\n",
       "<style scoped>\n",
       "    .dataframe tbody tr th:only-of-type {\n",
       "        vertical-align: middle;\n",
       "    }\n",
       "\n",
       "    .dataframe tbody tr th {\n",
       "        vertical-align: top;\n",
       "    }\n",
       "\n",
       "    .dataframe thead th {\n",
       "        text-align: right;\n",
       "    }\n",
       "</style>\n",
       "<table border=\"1\" class=\"dataframe\">\n",
       "  <thead>\n",
       "    <tr style=\"text-align: right;\">\n",
       "      <th></th>\n",
       "      <th>Name</th>\n",
       "      <th>Age</th>\n",
       "    </tr>\n",
       "  </thead>\n",
       "  <tbody>\n",
       "    <tr>\n",
       "      <th>0</th>\n",
       "      <td>Ulysses</td>\n",
       "      <td>13</td>\n",
       "    </tr>\n",
       "  </tbody>\n",
       "</table>\n",
       "</div>"
      ],
      "text/plain": [
       "      Name  Age\n",
       "0  Ulysses   13"
      ]
     },
     "execution_count": 7,
     "metadata": {},
     "output_type": "execute_result"
    }
   ],
   "source": [
    "df.loc[df['Student ID'] == 101, ['Name', 'Age']]"
   ]
  },
  {
   "cell_type": "markdown",
   "metadata": {},
   "source": [
    "Create a New Column"
   ]
  },
  {
   "cell_type": "code",
   "execution_count": 8,
   "metadata": {},
   "outputs": [
    {
     "name": "stdout",
     "output_type": "stream",
     "text": [
      "      Name  Salary\n",
      "0    Piper    4548\n",
      "1     Alex    2587\n",
      "2  Suzanne    3547\n",
      "3    Nicky    5874\n"
     ]
    }
   ],
   "source": [
    "employees = [[\"Piper\", 4548], [\"Alex\", 2587], [\"Suzanne\", 3547], [\"Nicky\", 5874]]\n",
    "\n",
    "df = pd.DataFrame(employees, columns=['Name', 'Salary'])\n",
    "\n",
    "print(df)"
   ]
  },
  {
   "cell_type": "code",
   "execution_count": 9,
   "metadata": {},
   "outputs": [
    {
     "name": "stdout",
     "output_type": "stream",
     "text": [
      "      Name  Salary  Bonus\n",
      "0    Piper    4548   9096\n",
      "1     Alex    2587   5174\n",
      "2  Suzanne    3547   7094\n",
      "3    Nicky    5874  11748\n"
     ]
    }
   ],
   "source": [
    "df['Bonus'] = df['Salary'] * 2\n",
    "print(df)"
   ]
  },
  {
   "cell_type": "markdown",
   "metadata": {},
   "source": [
    "Drop duplicate rows and keep only the first occurrence"
   ]
  },
  {
   "cell_type": "code",
   "execution_count": 10,
   "metadata": {},
   "outputs": [
    {
     "name": "stdout",
     "output_type": "stream",
     "text": [
      "   customer_id     Name                Email\n",
      "0            1     Ella    emily@example.com\n",
      "1            2    David  michael@example.com\n",
      "2            3  Zacahry    sarah@example.com\n",
      "3            4    Alice    john@example.com \n",
      "4            5     Finn    john@example.com \n",
      "5            6      Joe    john@example.com \n",
      "6            7   Violet   alice@example.com \n"
     ]
    }
   ],
   "source": [
    "employees = [[1, \"Ella\", \"emily@example.com\"], [2, \"David\", \"michael@example.com\"], [3, \"Zacahry\", \"sarah@example.com\"], [4, \"Alice\", \"john@example.com \"], [5, \"Finn\", \"john@example.com \"], [6, \"Joe\", \"john@example.com \"], [7, \"Violet\", \"alice@example.com \"]]\n",
    "\n",
    "df = pd.DataFrame(employees, columns=['customer_id', 'Name', 'Email']) \n",
    "\n",
    "print(df)"
   ]
  },
  {
   "cell_type": "code",
   "execution_count": 11,
   "metadata": {},
   "outputs": [
    {
     "name": "stdout",
     "output_type": "stream",
     "text": [
      "   customer_id     Name                Email\n",
      "0            1     Ella    emily@example.com\n",
      "1            2    David  michael@example.com\n",
      "2            3  Zacahry    sarah@example.com\n",
      "3            4    Alice    john@example.com \n",
      "6            7   Violet   alice@example.com \n"
     ]
    }
   ],
   "source": [
    "# subset='Email': This means that we are considering duplicates based on the email column only.\n",
    "# keep='first': This indicates that we want to keep the first occurrence of any duplicated email and drop the subsequent occurrences.\n",
    "# inplace=True: This means the changes will be made directly to the passed DataFrame (customers) without returning a new one.\n",
    "\n",
    "df.drop_duplicates(subset='Email', keep='first', inplace=True)\n",
    "\n",
    "print(df)"
   ]
  },
  {
   "cell_type": "markdown",
   "metadata": {},
   "source": [
    "Drop Missing Data"
   ]
  },
  {
   "cell_type": "code",
   "execution_count": 12,
   "metadata": {},
   "outputs": [],
   "source": [
    "df = pd.DataFrame(\n",
    "{\"student_id\" : [32, 33, 34],\n",
    "\"name\" : [None, \"John\", \"Doe\"],\n",
    "\"age\" : [10, 11, 12]})"
   ]
  },
  {
   "cell_type": "code",
   "execution_count": 13,
   "metadata": {},
   "outputs": [
    {
     "name": "stdout",
     "output_type": "stream",
     "text": [
      "   student_id  name  age\n",
      "1          33  John   11\n",
      "2          34   Doe   12\n"
     ]
    }
   ],
   "source": [
    "# print(df.dropna())\n",
    "\n",
    "# DO NOT NEST\n",
    "df.dropna(subset=['name'], inplace=True)\n",
    "\n",
    "print(df)"
   ]
  },
  {
   "cell_type": "markdown",
   "metadata": {},
   "source": [
    "Modify Columns"
   ]
  },
  {
   "cell_type": "code",
   "execution_count": 14,
   "metadata": {},
   "outputs": [],
   "source": [
    "df = pd.DataFrame(\n",
    "{\"name\" : [\"Jack\", \"Piper\", \"Alex\", \"Suzanne\", \"Nicky\"],\n",
    "\"salary\" : [19666, 25478, 25874, 35478, 58745]})"
   ]
  },
  {
   "cell_type": "code",
   "execution_count": 15,
   "metadata": {},
   "outputs": [
    {
     "name": "stdout",
     "output_type": "stream",
     "text": [
      "      name  salary\n",
      "0     Jack   39332\n",
      "1    Piper   50956\n",
      "2     Alex   51748\n",
      "3  Suzanne   70956\n",
      "4    Nicky  117490\n"
     ]
    }
   ],
   "source": [
    "df[\"salary\"] = df[\"salary\"] * 2\n",
    "\n",
    "print(df)"
   ]
  },
  {
   "cell_type": "markdown",
   "metadata": {},
   "source": [
    "Rename Columns"
   ]
  },
  {
   "cell_type": "code",
   "execution_count": 16,
   "metadata": {},
   "outputs": [],
   "source": [
    "df = pd.DataFrame(\n",
    "{\"id\" : [1, 2, 3, 4, 5],\n",
    "\"first\" : [\"Jack\", \"Piper\", \"Alex\", \"Suzanne\", \"Nicky\"],\n",
    "\"last\" : [\"Smith\", \"Brown\", \"Johnson\", \"Williams\", \"Jones\"],\n",
    "\"age\" : [6, 7, 8, 9, 10]})"
   ]
  },
  {
   "cell_type": "code",
   "execution_count": 17,
   "metadata": {},
   "outputs": [
    {
     "name": "stdout",
     "output_type": "stream",
     "text": [
      "   id    first      last  age\n",
      "0   1     Jack     Smith    6\n",
      "1   2    Piper     Brown    7\n",
      "2   3     Alex   Johnson    8\n",
      "3   4  Suzanne  Williams    9\n",
      "4   5    Nicky     Jones   10\n"
     ]
    }
   ],
   "source": [
    "df.rename(columns = {'id':'student_id', 'first':'first_name', 'last':'last_name', 'age':'age_in_years'})\n",
    "print(df)"
   ]
  },
  {
   "cell_type": "markdown",
   "metadata": {},
   "source": [
    "Change Data Type"
   ]
  },
  {
   "cell_type": "code",
   "execution_count": 18,
   "metadata": {},
   "outputs": [],
   "source": [
    "df = pd.DataFrame(\n",
    "{\"student_id\" : [1, 2],\n",
    "\"name\" : [\"Jack\", \"Piper\"],\n",
    "\"age\" : [6, 15],\n",
    "\"grade\" : [73.0, 85.0]})"
   ]
  },
  {
   "cell_type": "code",
   "execution_count": 19,
   "metadata": {},
   "outputs": [
    {
     "name": "stdout",
     "output_type": "stream",
     "text": [
      "   student_id   name  age  grade\n",
      "0           1   Jack    6     73\n",
      "1           2  Piper   15     85\n"
     ]
    }
   ],
   "source": [
    "df[\"grade\"] = df[\"grade\"].astype(int)\n",
    "\n",
    "print(df)"
   ]
  },
  {
   "cell_type": "markdown",
   "metadata": {},
   "source": [
    "Fill Missing Data"
   ]
  },
  {
   "cell_type": "code",
   "execution_count": 20,
   "metadata": {},
   "outputs": [
    {
     "ename": "NameError",
     "evalue": "name 'null' is not defined",
     "output_type": "error",
     "traceback": [
      "\u001b[31m---------------------------------------------------------------------------\u001b[39m",
      "\u001b[31mNameError\u001b[39m                                 Traceback (most recent call last)",
      "\u001b[36mCell\u001b[39m\u001b[36m \u001b[39m\u001b[32mIn[20]\u001b[39m\u001b[32m, line 4\u001b[39m\n\u001b[32m      1\u001b[39m df = pd.DataFrame(\n\u001b[32m      2\u001b[39m {\u001b[33m\"\u001b[39m\u001b[33mname\u001b[39m\u001b[33m\"\u001b[39m : [\u001b[33m\"\u001b[39m\u001b[33mJack\u001b[39m\u001b[33m\"\u001b[39m, \u001b[33m\"\u001b[39m\u001b[33mPiper\u001b[39m\u001b[33m\"\u001b[39m, \u001b[33m\"\u001b[39m\u001b[33mAlex\u001b[39m\u001b[33m\"\u001b[39m, \u001b[33m\"\u001b[39m\u001b[33mSuzanne\u001b[39m\u001b[33m\"\u001b[39m, \u001b[33m\"\u001b[39m\u001b[33mNicky\u001b[39m\u001b[33m\"\u001b[39m],\n\u001b[32m      3\u001b[39m \u001b[33m\"\u001b[39m\u001b[33mquantity\u001b[39m\u001b[33m\"\u001b[39m : [\u001b[38;5;28;01mNone\u001b[39;00m, \u001b[38;5;28;01mNone\u001b[39;00m, \u001b[32m779\u001b[39m, \u001b[32m1000\u001b[39m, \u001b[32m2000\u001b[39m],\n\u001b[32m----> \u001b[39m\u001b[32m4\u001b[39m \u001b[33m\"\u001b[39m\u001b[33mprice\u001b[39m\u001b[33m\"\u001b[39m : [\u001b[32m6\u001b[39m, \u001b[43mnull\u001b[49m, \u001b[32m8\u001b[39m, \u001b[32m9\u001b[39m, \u001b[32m10\u001b[39m]})\n",
      "\u001b[31mNameError\u001b[39m: name 'null' is not defined"
     ]
    }
   ],
   "source": [
    "df = pd.DataFrame(\n",
    "{\"name\" : [\"Jack\", \"Piper\", \"Alex\", \"Suzanne\", \"Nicky\"],\n",
    "\"quantity\" : [None, None, 779, 1000, 2000],\n",
    "\"price\" : [6, null, 8, 9, 10]})"
   ]
  },
  {
   "cell_type": "code",
   "execution_count": null,
   "metadata": {},
   "outputs": [
    {
     "name": "stdout",
     "output_type": "stream",
     "text": [
      "      name quantity  price\n",
      "0     Jack     None      6\n",
      "1    Piper     None      7\n",
      "2     Alex     None      8\n",
      "3  Suzanne     None      9\n",
      "4    Nicky     None     10\n"
     ]
    },
    {
     "name": "stderr",
     "output_type": "stream",
     "text": [
      "C:\\Users\\franj\\AppData\\Local\\Temp\\ipykernel_19156\\2551626867.py:1: FutureWarning: A value is trying to be set on a copy of a DataFrame or Series through chained assignment using an inplace method.\n",
      "The behavior will change in pandas 3.0. This inplace method will never work because the intermediate object on which we are setting values always behaves as a copy.\n",
      "\n",
      "For example, when doing 'df[col].method(value, inplace=True)', try using 'df.method({col: value}, inplace=True)' or df[col] = df[col].method(value) instead, to perform the operation inplace on the original object.\n",
      "\n",
      "\n",
      "  df[\"quantity\"] = df[\"quantity\"].fillna(0, inplace=True)\n"
     ]
    }
   ],
   "source": [
    "df[\"quantity\"] = df[\"quantity\"].fillna(0, inplace=True)\n",
    "\n",
    "print(df)"
   ]
  },
  {
   "cell_type": "markdown",
   "metadata": {},
   "source": [
    "Reshape Data: Concatenate"
   ]
  },
  {
   "cell_type": "code",
   "execution_count": 30,
   "metadata": {},
   "outputs": [],
   "source": [
    "df1 = pd.DataFrame(\n",
    "{\"student_id\" : [1, 2, 3, 4],\n",
    "\"name\" : [\"Jack\", \"Piper\", \"Alex\", \"Suzanne\"],\n",
    "\"age\" : [6, 7, 8, 9]})\n",
    "\n",
    "df2 = pd.DataFrame(\n",
    "{\"student_id\" : [1, 2],\n",
    "\"name\" : [\"Leo\", \"Alex\"],\n",
    "\"age\" : [6, 15]})"
   ]
  },
  {
   "cell_type": "code",
   "execution_count": 31,
   "metadata": {},
   "outputs": [
    {
     "name": "stdout",
     "output_type": "stream",
     "text": [
      "   student_id     name  age\n",
      "0           1     Jack    6\n",
      "1           2    Piper    7\n",
      "2           3     Alex    8\n",
      "3           4  Suzanne    9\n",
      "0           1      Leo    6\n",
      "1           2     Alex   15\n"
     ]
    }
   ],
   "source": [
    "df = pd.concat([df1,df2])\n",
    "\n",
    "print(df)"
   ]
  },
  {
   "cell_type": "markdown",
   "metadata": {},
   "source": [
    "Reshape Data: Pivot (Convert to Wide Format)"
   ]
  },
  {
   "cell_type": "code",
   "execution_count": 23,
   "metadata": {},
   "outputs": [],
   "source": [
    "df = pd.DataFrame(\n",
    "{\"city\" : [\"Jacksonville\", \"Jacksonville\", \"Jacksonville\", \"Jacksonville\", \"Jacksonville\", \"El Paso\", \"El Paso\", \"El Paso\", \"El Paso\", \"El Paso\"],\n",
    "\"month\" : [\"January\", \"February\", \"March\", \"April\", \"May\", \"January\", \"February\", \"March\", \"April\", \"May\"],\n",
    "\"temperature\" : [13, 23, 38, 5, 34, 20, 6, 26, 2, 43]})"
   ]
  },
  {
   "cell_type": "code",
   "execution_count": 24,
   "metadata": {},
   "outputs": [
    {
     "name": "stdout",
     "output_type": "stream",
     "text": [
      "city      El Paso  Jacksonville\n",
      "month                          \n",
      "April           2             5\n",
      "February        6            23\n",
      "January        20            13\n",
      "March          26            38\n",
      "May            43            34\n"
     ]
    }
   ],
   "source": [
    "df_wide = df.pivot(index='month', columns='city', values='temperature')\n",
    "\n",
    "print(df_wide)"
   ]
  },
  {
   "cell_type": "markdown",
   "metadata": {},
   "source": [
    "Reshape Data: Melt (Convert to Long Format)"
   ]
  },
  {
   "cell_type": "code",
   "execution_count": 27,
   "metadata": {},
   "outputs": [],
   "source": [
    "df = pd.DataFrame(\n",
    "{\"product\" : [\"Umbrella\", \"Sleeping Bag\"],\n",
    "\"quarter_1\" : [417, 800],\n",
    "\"quarter_2\" : [224, 936],\n",
    "\"quarter_3\" : [379, 93],\n",
    "\"quarter_4\" : [611, 875]})"
   ]
  },
  {
   "cell_type": "code",
   "execution_count": 29,
   "metadata": {},
   "outputs": [
    {
     "name": "stdout",
     "output_type": "stream",
     "text": [
      "        product    quarter  sales\n",
      "0      Umbrella  quarter_1    417\n",
      "1  Sleeping Bag  quarter_1    800\n",
      "2      Umbrella  quarter_2    224\n",
      "3  Sleeping Bag  quarter_2    936\n",
      "4      Umbrella  quarter_3    379\n",
      "5  Sleeping Bag  quarter_3     93\n",
      "6      Umbrella  quarter_4    611\n",
      "7  Sleeping Bag  quarter_4    875\n"
     ]
    }
   ],
   "source": [
    "df_long = df.melt(id_vars='product', \n",
    "                  value_vars=['quarter_1', 'quarter_2', 'quarter_3', 'quarter_4'], \n",
    "                  var_name='quarter', \n",
    "                  value_name='sales')\n",
    "\n",
    "print(df_long)"
   ]
  },
  {
   "cell_type": "code",
   "execution_count": null,
   "metadata": {},
   "outputs": [
    {
     "data": {
      "text/plain": [
       "1.9"
      ]
     },
     "execution_count": 23,
     "metadata": {},
     "output_type": "execute_result"
    }
   ],
   "source": [
    "df = pd.Series([2.6, 3, 4.9, 5, 5, 6, 6, 7.9, 8, 8.2])\n",
    "\n",
    "df.std(ddof=0).round(decimals=1)"
   ]
  },
  {
   "cell_type": "code",
   "execution_count": null,
   "metadata": {},
   "outputs": [
    {
     "data": {
      "text/plain": [
       "5.5"
      ]
     },
     "execution_count": 24,
     "metadata": {},
     "output_type": "execute_result"
    }
   ],
   "source": [
    "df.median()"
   ]
  },
  {
   "cell_type": "code",
   "execution_count": null,
   "metadata": {},
   "outputs": [
    {
     "data": {
      "text/plain": [
       "5.659999999999999"
      ]
     },
     "execution_count": 25,
     "metadata": {},
     "output_type": "execute_result"
    }
   ],
   "source": [
    "df.mean()"
   ]
  },
  {
   "cell_type": "code",
   "execution_count": null,
   "metadata": {},
   "outputs": [
    {
     "data": {
      "text/plain": [
       "0.25    4.925\n",
       "0.50    5.500\n",
       "0.75    7.425\n",
       "dtype: float64"
      ]
     },
     "execution_count": 26,
     "metadata": {},
     "output_type": "execute_result"
    }
   ],
   "source": [
    "df.quantile([0.25, 0.5, 0.75])"
   ]
  },
  {
   "cell_type": "code",
   "execution_count": null,
   "metadata": {},
   "outputs": [
    {
     "data": {
      "text/plain": [
       "2.5"
      ]
     },
     "execution_count": 27,
     "metadata": {},
     "output_type": "execute_result"
    }
   ],
   "source": [
    "Q1 = df.quantile(0.25)\n",
    "Q3 = df.quantile(0.75)\n",
    "IQR = Q3 - Q1\n",
    "IQR"
   ]
  },
  {
   "cell_type": "code",
   "execution_count": null,
   "metadata": {},
   "outputs": [
    {
     "data": {
      "text/plain": [
       "(1.1750000000000007, 11.175)"
      ]
     },
     "execution_count": 28,
     "metadata": {},
     "output_type": "execute_result"
    }
   ],
   "source": [
    "lower_bound = Q1 - 1.5 * IQR\n",
    "upper_bound = Q3 + 1.5 * IQR\n",
    "\n",
    "lower_bound, upper_bound"
   ]
  },
  {
   "cell_type": "code",
   "execution_count": null,
   "metadata": {},
   "outputs": [
    {
     "name": "stdout",
     "output_type": "stream",
     "text": [
      "MAD (Mean-Based): 0.8\n"
     ]
    }
   ],
   "source": [
    "df = pd.DataFrame({\"values\": [5, 6, 5, 6, 8]})\n",
    "\n",
    "mad_mean = df[\"values\"].sub(df[\"values\"].mean()).abs().mean().round(2)\n",
    "\n",
    "print(\"MAD (Mean-Based):\", mad_mean)"
   ]
  },
  {
   "cell_type": "code",
   "execution_count": null,
   "metadata": {},
   "outputs": [
    {
     "name": "stdout",
     "output_type": "stream",
     "text": [
      "0.8532899999999999\n"
     ]
    }
   ],
   "source": [
    "t1 = 0.13350\n",
    "t2 = 0.98679\n",
    "\n",
    "print(t2-t1)"
   ]
  },
  {
   "cell_type": "code",
   "execution_count": null,
   "metadata": {},
   "outputs": [
    {
     "name": "stdout",
     "output_type": "stream",
     "text": [
      "    x  y_actual  y_predicted  residual\n",
      "0  60        78         72.0       6.0\n"
     ]
    }
   ],
   "source": [
    "df = pd.DataFrame({\"x\": [60], \"y_actual\": [78]})\n",
    "\n",
    "# Compute predicted values using the equation ŷ = -47 + 2x\n",
    "df[\"y_predicted\"] = 2 + 7/6 * df[\"x\"]\n",
    "\n",
    "# Compute residuals: Residual = Actual - Predicted\n",
    "df[\"residual\"] = df[\"y_actual\"] - df[\"y_predicted\"]\n",
    "\n",
    "print(df)"
   ]
  },
  {
   "cell_type": "code",
   "execution_count": null,
   "metadata": {},
   "outputs": [
    {
     "name": "stdout",
     "output_type": "stream",
     "text": [
      "ŷ = -40.776 + 9.72x\n"
     ]
    }
   ],
   "source": [
    "# Given values\n",
    "x_mean = 75.8\n",
    "y_mean = 696\n",
    "sx = 14.8\n",
    "sy = 177.6\n",
    "r = 0.81\n",
    "\n",
    "# Compute slope (b1)\n",
    "b1 = r * (sy / sx)\n",
    "\n",
    "# Compute intercept (b0)\n",
    "b0 = y_mean - b1 * x_mean\n",
    "\n",
    "# Round to two decimal places\n",
    "b0, b1 = round(b0, 3), round(b1, 4)\n",
    "\n",
    "print(f\"ŷ = {b0} + {b1}x\")"
   ]
  },
  {
   "cell_type": "code",
   "execution_count": 1,
   "metadata": {},
   "outputs": [],
   "source": [
    "# online_orders[\"date_sold\"] = pd.to_datetime(online_orders[\"date_sold\"], errors='coerce')\n",
    "\n",
    "# online_orders[\"revenue\"] = online_orders[\"cost_in_dollars\"] * online_orders[\"units_sold\"]\n",
    "\n",
    "# first_half = online_orders[online_orders[\"date_sold\"].between(\"2022-01-01\", \"2022-06-30\")].groupby(by=\"product_id\", as_index=False).sum().sort_values(by=[\"revenue\"], ascending=False).head(5)[[\"product_id\", \"revenue\"]]\n",
    "\n",
    "# first_half\n",
    "\n",
    "# link: https://platform.stratascratch.com/coding/2119-most-lucrative-products?code_type=2"
   ]
  },
  {
   "cell_type": "code",
   "execution_count": 2,
   "metadata": {},
   "outputs": [],
   "source": [
    "# median = sat_scores[\"sat_writing\"].median()\n",
    "\n",
    "# students = sat_scores[sat_scores[\"sat_writing\"] == median][\"student_id\"]\n",
    "\n",
    "# students\n",
    "\n",
    "# link: https://platform.stratascratch.com/coding/9610-find-students-with-a-median-writing-score?code_type=2"
   ]
  },
  {
   "cell_type": "code",
   "execution_count": 3,
   "metadata": {},
   "outputs": [],
   "source": [
    "# workers = pd.merge(worker, title, how='inner', left_on='worker_id', right_on='worker_ref_id')\n",
    "\n",
    "# workers = workers[workers[\"salary\"] == workers[\"salary\"].max()][\"worker_title\"]\n",
    "\n",
    "# workers\n",
    "\n",
    "# link: https://platform.stratascratch.com/coding/10353-workers-with-the-highest-salaries?code_type=2"
   ]
  },
  {
   "cell_type": "code",
   "execution_count": null,
   "metadata": {},
   "outputs": [],
   "source": []
  }
 ],
 "metadata": {
  "kernelspec": {
   "display_name": "myenv",
   "language": "python",
   "name": "python3"
  },
  "language_info": {
   "codemirror_mode": {
    "name": "ipython",
    "version": 3
   },
   "file_extension": ".py",
   "mimetype": "text/x-python",
   "name": "python",
   "nbconvert_exporter": "python",
   "pygments_lexer": "ipython3",
   "version": "3.11.11"
  }
 },
 "nbformat": 4,
 "nbformat_minor": 2
}
