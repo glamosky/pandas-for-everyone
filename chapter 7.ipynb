{
 "cells": [
  {
   "cell_type": "markdown",
   "metadata": {},
   "source": [
    "Chapter 7 - Data Normalization"
   ]
  },
  {
   "cell_type": "code",
   "execution_count": 1,
   "metadata": {},
   "outputs": [],
   "source": [
    "import pandas as pd"
   ]
  },
  {
   "cell_type": "code",
   "execution_count": 3,
   "metadata": {},
   "outputs": [],
   "source": [
    "billboard = pd.read_csv('C:/Users/franj/notebooks/pandas for everyone/pandas-for-everyone/data/billboard.csv')"
   ]
  },
  {
   "cell_type": "code",
   "execution_count": 4,
   "metadata": {},
   "outputs": [
    {
     "name": "stdout",
     "output_type": "stream",
     "text": [
      "       year            artist                    track  time date.entered  \\\n",
      "0      2000             2 Pac  Baby Don't Cry (Keep...  4:22   2000-02-26   \n",
      "1      2000           2Ge+her  The Hardest Part Of ...  3:15   2000-09-02   \n",
      "2      2000      3 Doors Down               Kryptonite  3:53   2000-04-08   \n",
      "3      2000      3 Doors Down                    Loser  4:24   2000-10-21   \n",
      "4      2000          504 Boyz            Wobble Wobble  3:35   2000-04-15   \n",
      "...     ...               ...                      ...   ...          ...   \n",
      "24087  2000       Yankee Grey     Another Nine Minutes  3:10   2000-04-29   \n",
      "24088  2000  Yearwood, Trisha          Real Live Woman  3:55   2000-04-01   \n",
      "24089  2000   Ying Yang Twins  Whistle While You Tw...  4:19   2000-03-18   \n",
      "24090  2000     Zombie Nation            Kernkraft 400  3:30   2000-09-02   \n",
      "24091  2000   matchbox twenty                     Bent  4:12   2000-04-29   \n",
      "\n",
      "       week  rating  \n",
      "0       wk1    87.0  \n",
      "1       wk1    91.0  \n",
      "2       wk1    81.0  \n",
      "3       wk1    76.0  \n",
      "4       wk1    57.0  \n",
      "...     ...     ...  \n",
      "24087  wk76     NaN  \n",
      "24088  wk76     NaN  \n",
      "24089  wk76     NaN  \n",
      "24090  wk76     NaN  \n",
      "24091  wk76     NaN  \n",
      "\n",
      "[24092 rows x 7 columns]\n"
     ]
    }
   ],
   "source": [
    "billboard_long = billboard.melt(\n",
    "    id_vars=['year', 'artist', 'track', 'time', 'date.entered'],\n",
    "    var_name='week',\n",
    "    value_name='rating'\n",
    ")\n",
    "\n",
    "print(billboard_long)"
   ]
  },
  {
   "cell_type": "code",
   "execution_count": 5,
   "metadata": {},
   "outputs": [
    {
     "name": "stdout",
     "output_type": "stream",
     "text": [
      "       year        artist  track  time date.entered  week  rating\n",
      "3      2000  3 Doors Down  Loser  4:24   2000-10-21   wk1    76.0\n",
      "320    2000  3 Doors Down  Loser  4:24   2000-10-21   wk2    76.0\n",
      "637    2000  3 Doors Down  Loser  4:24   2000-10-21   wk3    72.0\n",
      "954    2000  3 Doors Down  Loser  4:24   2000-10-21   wk4    69.0\n",
      "1271   2000  3 Doors Down  Loser  4:24   2000-10-21   wk5    67.0\n",
      "...     ...           ...    ...   ...          ...   ...     ...\n",
      "22510  2000  3 Doors Down  Loser  4:24   2000-10-21  wk72     NaN\n",
      "22827  2000  3 Doors Down  Loser  4:24   2000-10-21  wk73     NaN\n",
      "23144  2000  3 Doors Down  Loser  4:24   2000-10-21  wk74     NaN\n",
      "23461  2000  3 Doors Down  Loser  4:24   2000-10-21  wk75     NaN\n",
      "23778  2000  3 Doors Down  Loser  4:24   2000-10-21  wk76     NaN\n",
      "\n",
      "[76 rows x 7 columns]\n"
     ]
    }
   ],
   "source": [
    "print(billboard_long.loc[billboard_long.track == 'Loser'])"
   ]
  },
  {
   "cell_type": "code",
   "execution_count": 6,
   "metadata": {},
   "outputs": [
    {
     "name": "stdout",
     "output_type": "stream",
     "text": [
      "(24092, 4)\n"
     ]
    }
   ],
   "source": [
    "billboard_songs = billboard_long[['year', 'artist', 'track', 'time']]\n",
    "print(billboard_songs.shape)"
   ]
  },
  {
   "cell_type": "code",
   "execution_count": 7,
   "metadata": {},
   "outputs": [
    {
     "name": "stdout",
     "output_type": "stream",
     "text": [
      "(317, 4)\n"
     ]
    }
   ],
   "source": [
    "billboard_songs = billboard_songs.drop_duplicates()\n",
    "print(billboard_songs.shape)"
   ]
  },
  {
   "cell_type": "code",
   "execution_count": 8,
   "metadata": {},
   "outputs": [
    {
     "name": "stdout",
     "output_type": "stream",
     "text": [
      "     year            artist                    track  time   id\n",
      "0    2000             2 Pac  Baby Don't Cry (Keep...  4:22    1\n",
      "1    2000           2Ge+her  The Hardest Part Of ...  3:15    2\n",
      "2    2000      3 Doors Down               Kryptonite  3:53    3\n",
      "3    2000      3 Doors Down                    Loser  4:24    4\n",
      "4    2000          504 Boyz            Wobble Wobble  3:35    5\n",
      "..    ...               ...                      ...   ...  ...\n",
      "312  2000       Yankee Grey     Another Nine Minutes  3:10  313\n",
      "313  2000  Yearwood, Trisha          Real Live Woman  3:55  314\n",
      "314  2000   Ying Yang Twins  Whistle While You Tw...  4:19  315\n",
      "315  2000     Zombie Nation            Kernkraft 400  3:30  316\n",
      "316  2000   matchbox twenty                     Bent  4:12  317\n",
      "\n",
      "[317 rows x 5 columns]\n"
     ]
    }
   ],
   "source": [
    "billboard_songs[\"id\"] = billboard_songs.index + 1\n",
    "print(billboard_songs)"
   ]
  },
  {
   "cell_type": "code",
   "execution_count": 9,
   "metadata": {},
   "outputs": [
    {
     "name": "stdout",
     "output_type": "stream",
     "text": [
      "(24092, 8)\n"
     ]
    }
   ],
   "source": [
    "billboard_ratings = billboard_long.merge(\n",
    "    billboard_songs, on=['year', 'artist', 'track', 'time']\n",
    ")\n",
    "print(billboard_ratings.shape)"
   ]
  },
  {
   "cell_type": "code",
   "execution_count": 10,
   "metadata": {},
   "outputs": [
    {
     "name": "stdout",
     "output_type": "stream",
     "text": [
      "       year           artist                    track  time date.entered  \\\n",
      "0      2000            2 Pac  Baby Don't Cry (Keep...  4:22   2000-02-26   \n",
      "1      2000            2 Pac  Baby Don't Cry (Keep...  4:22   2000-02-26   \n",
      "2      2000            2 Pac  Baby Don't Cry (Keep...  4:22   2000-02-26   \n",
      "3      2000            2 Pac  Baby Don't Cry (Keep...  4:22   2000-02-26   \n",
      "4      2000            2 Pac  Baby Don't Cry (Keep...  4:22   2000-02-26   \n",
      "...     ...              ...                      ...   ...          ...   \n",
      "24087  2000  matchbox twenty                     Bent  4:12   2000-04-29   \n",
      "24088  2000  matchbox twenty                     Bent  4:12   2000-04-29   \n",
      "24089  2000  matchbox twenty                     Bent  4:12   2000-04-29   \n",
      "24090  2000  matchbox twenty                     Bent  4:12   2000-04-29   \n",
      "24091  2000  matchbox twenty                     Bent  4:12   2000-04-29   \n",
      "\n",
      "       week  rating   id  \n",
      "0       wk1    87.0    1  \n",
      "1       wk2    82.0    1  \n",
      "2       wk3    72.0    1  \n",
      "3       wk4    77.0    1  \n",
      "4       wk5    87.0    1  \n",
      "...     ...     ...  ...  \n",
      "24087  wk72     NaN  317  \n",
      "24088  wk73     NaN  317  \n",
      "24089  wk74     NaN  317  \n",
      "24090  wk75     NaN  317  \n",
      "24091  wk76     NaN  317  \n",
      "\n",
      "[24092 rows x 8 columns]\n"
     ]
    }
   ],
   "source": [
    "print(billboard_ratings)"
   ]
  },
  {
   "cell_type": "code",
   "execution_count": 11,
   "metadata": {},
   "outputs": [
    {
     "name": "stdout",
     "output_type": "stream",
     "text": [
      "        id date.entered  week  rating\n",
      "0        1   2000-02-26   wk1    87.0\n",
      "1        1   2000-02-26   wk2    82.0\n",
      "2        1   2000-02-26   wk3    72.0\n",
      "3        1   2000-02-26   wk4    77.0\n",
      "4        1   2000-02-26   wk5    87.0\n",
      "...    ...          ...   ...     ...\n",
      "24087  317   2000-04-29  wk72     NaN\n",
      "24088  317   2000-04-29  wk73     NaN\n",
      "24089  317   2000-04-29  wk74     NaN\n",
      "24090  317   2000-04-29  wk75     NaN\n",
      "24091  317   2000-04-29  wk76     NaN\n",
      "\n",
      "[24092 rows x 4 columns]\n"
     ]
    }
   ],
   "source": [
    "billboard_ratings = billboard_ratings[['id', 'date.entered', 'week', 'rating']]\n",
    "print(billboard_ratings)"
   ]
  },
  {
   "cell_type": "code",
   "execution_count": null,
   "metadata": {},
   "outputs": [],
   "source": []
  }
 ],
 "metadata": {
  "kernelspec": {
   "display_name": "base",
   "language": "python",
   "name": "python3"
  },
  "language_info": {
   "codemirror_mode": {
    "name": "ipython",
    "version": 3
   },
   "file_extension": ".py",
   "mimetype": "text/x-python",
   "name": "python",
   "nbconvert_exporter": "python",
   "pygments_lexer": "ipython3",
   "version": "3.11.5"
  }
 },
 "nbformat": 4,
 "nbformat_minor": 2
}
