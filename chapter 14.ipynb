{
 "cells": [
  {
   "cell_type": "markdown",
   "metadata": {},
   "source": [
    "Chapter 14 - Generalized Linear Models"
   ]
  },
  {
   "cell_type": "code",
   "execution_count": 7,
   "metadata": {},
   "outputs": [],
   "source": [
    "import seaborn as sns\n",
    "\n",
    "titanic = sns.load_dataset('titanic')\n",
    "titanic.to_csv('C:/Users/franj/notebooks/pandas for everyone/pandas-for-everyone/data/titanic.csv', index=False)"
   ]
  },
  {
   "cell_type": "code",
   "execution_count": 8,
   "metadata": {},
   "outputs": [
    {
     "name": "stdout",
     "output_type": "stream",
     "text": [
      "     survived     sex   age embarked\n",
      "0           0    male  22.0        S\n",
      "1           1  female  38.0        C\n",
      "2           1  female  26.0        S\n",
      "3           1  female  35.0        S\n",
      "4           0    male  35.0        S\n",
      "..        ...     ...   ...      ...\n",
      "885         0  female  39.0        Q\n",
      "886         0    male  27.0        S\n",
      "887         1  female  19.0        S\n",
      "889         1    male  26.0        C\n",
      "890         0    male  32.0        Q\n",
      "\n",
      "[712 rows x 4 columns]\n"
     ]
    }
   ],
   "source": [
    "titanic_sub = (titanic[['survived', 'sex', 'age', 'embarked']].copy().dropna())\n",
    "print(titanic_sub)"
   ]
  },
  {
   "cell_type": "code",
   "execution_count": 9,
   "metadata": {},
   "outputs": [
    {
     "name": "stdout",
     "output_type": "stream",
     "text": [
      "survived\n",
      "0    424\n",
      "1    288\n",
      "Name: count, dtype: int64\n"
     ]
    }
   ],
   "source": [
    "# count of values in the survived column\n",
    "print(titanic_sub[\"survived\"].value_counts())"
   ]
  },
  {
   "cell_type": "code",
   "execution_count": 10,
   "metadata": {},
   "outputs": [
    {
     "name": "stdout",
     "output_type": "stream",
     "text": [
      "embarked\n",
      "S    554\n",
      "C    130\n",
      "Q     28\n",
      "Name: count, dtype: int64\n"
     ]
    }
   ],
   "source": [
    "# count of values in the embarked column\n",
    "print(titanic_sub[\"embarked\"].value_counts())"
   ]
  },
  {
   "cell_type": "code",
   "execution_count": 11,
   "metadata": {},
   "outputs": [
    {
     "name": "stdout",
     "output_type": "stream",
     "text": [
      "Optimization terminated successfully.\n",
      "         Current function value: 0.509889\n",
      "         Iterations 6\n",
      "                           Logit Regression Results                           \n",
      "==============================================================================\n",
      "Dep. Variable:               survived   No. Observations:                  712\n",
      "Model:                          Logit   Df Residuals:                      707\n",
      "Method:                           MLE   Df Model:                            4\n",
      "Date:                Tue, 25 Mar 2025   Pseudo R-squ.:                  0.2444\n",
      "Time:                        18:55:56   Log-Likelihood:                -363.04\n",
      "converged:                       True   LL-Null:                       -480.45\n",
      "Covariance Type:            nonrobust   LLR p-value:                 1.209e-49\n",
      "=================================================================================\n",
      "                    coef    std err          z      P>|z|      [0.025      0.975]\n",
      "---------------------------------------------------------------------------------\n",
      "Intercept         2.2046      0.322      6.851      0.000       1.574       2.835\n",
      "sex[T.male]      -2.4760      0.191    -12.976      0.000      -2.850      -2.102\n",
      "embarked[T.Q]    -1.8156      0.535     -3.393      0.001      -2.864      -0.767\n",
      "embarked[T.S]    -1.0069      0.237     -4.251      0.000      -1.471      -0.543\n",
      "age              -0.0081      0.007     -1.233      0.217      -0.021       0.005\n",
      "=================================================================================\n"
     ]
    }
   ],
   "source": [
    "import statsmodels.formula.api as smf\n",
    "\n",
    "# formula for the model\n",
    "form = 'survived ~ sex + age + embarked'\n",
    "\n",
    "# fitting the logistic regression model, note the .fit() at the end\n",
    "py_logistic_smf = smf.logit(formula=form, data=titanic_sub).fit()\n",
    "\n",
    "print(py_logistic_smf.summary())"
   ]
  },
  {
   "cell_type": "code",
   "execution_count": 12,
   "metadata": {},
   "outputs": [
    {
     "name": "stdout",
     "output_type": "stream",
     "text": [
      "               coefs_sm  odds_sm\n",
      "Intercept         2.205    9.066\n",
      "sex[T.male]      -2.476    0.084\n",
      "embarked[T.Q]    -1.816    0.163\n",
      "embarked[T.S]    -1.007    0.365\n",
      "age              -0.008    0.992\n"
     ]
    }
   ],
   "source": [
    "import numpy as np\n",
    "import pandas as pd\n",
    "\n",
    "# get the coefficients into a dataframe\n",
    "res_sm = pd.DataFrame(py_logistic_smf.params, columns=[\"coefs_sm\"])\n",
    "\n",
    "# calculate the odds\n",
    "res_sm[\"odds_sm\"] = np.exp(res_sm[\"coefs_sm\"])\n",
    "\n",
    "# round the decimals\n",
    "print(res_sm.round(3))"
   ]
  },
  {
   "cell_type": "code",
   "execution_count": 13,
   "metadata": {},
   "outputs": [
    {
     "name": "stdout",
     "output_type": "stream",
     "text": [
      "     survived   age  sex_male  embarked_Q  embarked_S\n",
      "0           0  22.0      True       False        True\n",
      "1           1  38.0     False       False       False\n",
      "2           1  26.0     False       False        True\n",
      "3           1  35.0     False       False        True\n",
      "4           0  35.0      True       False        True\n",
      "..        ...   ...       ...         ...         ...\n",
      "885         0  39.0     False        True       False\n",
      "886         0  27.0      True       False        True\n",
      "887         1  19.0     False       False        True\n",
      "889         1  26.0      True       False       False\n",
      "890         0  32.0      True        True       False\n",
      "\n",
      "[712 rows x 5 columns]\n"
     ]
    }
   ],
   "source": [
    "titanic_dummy = pd.get_dummies(\n",
    "    titanic_sub[[\"survived\", \"sex\", \"age\", \"embarked\"]],\n",
    "    drop_first=True\n",
    ")\n",
    "\n",
    "# note our outcome variable is the first column (index 0)\n",
    "print(titanic_dummy)"
   ]
  },
  {
   "cell_type": "code",
   "execution_count": null,
   "metadata": {},
   "outputs": [],
   "source": [
    "from sklearn import linear_model\n",
    "\n",
    "# this is the only part that fits the model\n",
    "py_logistic_sklearn1 = (\n",
    "    linear_model.LogisticRegression().fit(\n",
    "        X=titanic_dummy.iloc[:, 1:], # all the columns except first\n",
    "        y=titanic_dummy.iloc[:, 0] # just the first column\n",
    "    )\n",
    ")"
   ]
  },
  {
   "cell_type": "code",
   "execution_count": 16,
   "metadata": {},
   "outputs": [
    {
     "name": "stdout",
     "output_type": "stream",
     "text": [
      "            coef_sk1  odds_sk1\n",
      "Intercept      2.024     7.571\n",
      "age           -0.008     0.992\n",
      "sex_male      -2.372     0.093\n",
      "embarked_Q    -1.369     0.254\n",
      "embarked_S    -0.887     0.412\n"
     ]
    }
   ],
   "source": [
    "# get the names of the dummy variable columns\n",
    "dummy_names = titanic_dummy.columns.to_list()\n",
    "\n",
    "# get the intercept and coefficients into a dataframe\n",
    "sk1_res1 = pd.DataFrame(\n",
    "    py_logistic_sklearn1.intercept_,\n",
    "    index=[\"Intercept\"],\n",
    "    columns=[\"coef_sk1\"],\n",
    ")\n",
    "sk1_res2 = pd.DataFrame(\n",
    "    py_logistic_sklearn1.coef_.T,\n",
    "    index=dummy_names[1:],\n",
    "    columns=[\"coef_sk1\"],\n",
    ")\n",
    "\n",
    "# put the results into a single dataframe to show the results\n",
    "res_sklearn_pd_1 = pd.concat([sk1_res1, sk1_res2])\n",
    "\n",
    "# calculate the odds\n",
    "res_sklearn_pd_1[\"odds_sk1\"] = np.exp(res_sklearn_pd_1[\"coef_sk1\"])\n",
    "print(res_sklearn_pd_1.round(3))"
   ]
  },
  {
   "cell_type": "code",
   "execution_count": 17,
   "metadata": {},
   "outputs": [
    {
     "name": "stdout",
     "output_type": "stream",
     "text": [
      "               coefs_sm  odds_sm\n",
      "Intercept         2.205    9.066\n",
      "age              -0.008    0.992\n",
      "embarked[T.Q]    -1.816    0.163\n",
      "embarked[T.S]    -1.007    0.365\n",
      "sex[T.male]      -2.476    0.084\n"
     ]
    },
    {
     "name": "stderr",
     "output_type": "stream",
     "text": [
      "c:\\Users\\franj\\anaconda3\\Lib\\site-packages\\sklearn\\linear_model\\_logistic.py:1182: FutureWarning: `penalty='none'`has been deprecated in 1.2 and will be removed in 1.4. To keep the past behaviour, set `penalty=None`.\n",
      "  warnings.warn(\n"
     ]
    }
   ],
   "source": [
    "# fit another logistic regression with no penalty\n",
    "py_logistic_sklearn2 = linear_model.LogisticRegression(\n",
    "    penalty=\"none\" # this parameter is important!\n",
    ").fit(\n",
    "    X=titanic_dummy.iloc[:, 1:], # all the columns except first\n",
    "    y=titanic_dummy.iloc[:, 0] # just the first column\n",
    ")\n",
    "\n",
    "# rest of the code is the same as before, except variable names\n",
    "sk2_res1 = pd.DataFrame(\n",
    "    py_logistic_sklearn2.intercept_,\n",
    "    index=[\"Intercept\"],\n",
    "    columns=[\"coef_sk2\"],\n",
    ")\n",
    "sk2_res2 = pd.DataFrame(\n",
    "    py_logistic_sklearn2.coef_.T,\n",
    "    index=dummy_names[1:],\n",
    "    columns=[\"coef_sk2\"],\n",
    ")\n",
    "\n",
    "res_sklearn_pd_2 = pd.concat([sk2_res1, sk2_res2])\n",
    "res_sklearn_pd_2[\"odds_sk2\"] = np.exp(res_sklearn_pd_2[\"coef_sk2\"])\n",
    "\n",
    "sm_results = res_sm.round(3)\n",
    "\n",
    "# sort values to make things easier to compare\n",
    "sm_results = sm_results.sort_index()\n",
    "print(sm_results)"
   ]
  },
  {
   "cell_type": "code",
   "execution_count": 18,
   "metadata": {},
   "outputs": [
    {
     "name": "stdout",
     "output_type": "stream",
     "text": [
      "            coef_sk1  coef_sk2  odds_sk1  odds_sk2\n",
      "Intercept      2.024     2.205     7.571     9.066\n",
      "age           -0.008    -0.008     0.992     0.992\n",
      "embarked_Q    -1.369    -1.816     0.254     0.163\n",
      "embarked_S    -0.887    -1.007     0.412     0.365\n",
      "sex_male      -2.372    -2.476     0.093     0.084\n"
     ]
    }
   ],
   "source": [
    "# concatenate the 2 model results\n",
    "sk_results = pd.concat(\n",
    "    [res_sklearn_pd_1.round(3), res_sklearn_pd_2.round(3)],\n",
    "    axis=\"columns\",\n",
    ")\n",
    "\n",
    "# sort cols and rows to make things easy to compare\n",
    "sk_results = sk_results[sk_results.columns.sort_values()]\n",
    "sk_results = sk_results.sort_index()\n",
    "\n",
    "print(sk_results)"
   ]
  },
  {
   "cell_type": "code",
   "execution_count": 19,
   "metadata": {},
   "outputs": [
    {
     "name": "stdout",
     "output_type": "stream",
     "text": [
      "Index(['Acres', 'FamilyIncome', 'FamilyType', 'NumBedrooms', 'NumChildren',\n",
      "       'NumPeople', 'NumRooms', 'NumUnits', 'NumVehicles', 'NumWorkers',\n",
      "       'OwnRent', 'YearBuilt', 'HouseCosts', 'ElectricBill', 'FoodStamp',\n",
      "       'HeatingFuel', 'Insurance', 'Language'],\n",
      "      dtype='object')\n"
     ]
    }
   ],
   "source": [
    "# poisson regression\n",
    "acs = pd.read_csv('C:/Users/franj/notebooks/pandas for everyone/pandas-for-everyone/data/acs_ny.csv')\n",
    "print(acs.columns)"
   ]
  },
  {
   "cell_type": "code",
   "execution_count": 20,
   "metadata": {},
   "outputs": [
    {
     "data": {
      "image/png": "[encoded data removed]",
      "text/plain": [
       "<Figure size 640x480 with 1 Axes>"
      ]
     },
     "metadata": {},
     "output_type": "display_data"
    }
   ],
   "source": [
    "import matplotlib.pyplot as plt\n",
    "\n",
    "fig, ax = plt.subplots()\n",
    "sns.countplot(data = acs, x = \"NumBedrooms\", ax=ax)\n",
    "\n",
    "ax.set_title('Number of Bedrooms')\n",
    "ax.set_xlabel('Number of Bedrooms in a House')\n",
    "ax.set_ylabel('Count')\n",
    "\n",
    "plt.show()"
   ]
  },
  {
   "cell_type": "code",
   "execution_count": 21,
   "metadata": {},
   "outputs": [
    {
     "name": "stdout",
     "output_type": "stream",
     "text": [
      "Optimization terminated successfully.\n",
      "         Current function value: 1.680998\n",
      "         Iterations 10\n",
      "                          Poisson Regression Results                          \n",
      "==============================================================================\n",
      "Dep. Variable:            NumBedrooms   No. Observations:                22745\n",
      "Model:                        Poisson   Df Residuals:                    22741\n",
      "Method:                           MLE   Df Model:                            3\n",
      "Date:                Tue, 25 Mar 2025   Pseudo R-squ.:                0.008309\n",
      "Time:                        19:23:37   Log-Likelihood:                -38234.\n",
      "converged:                       True   LL-Null:                       -38555.\n",
      "Covariance Type:            nonrobust   LLR p-value:                1.512e-138\n",
      "=======================================================================================\n",
      "                          coef    std err          z      P>|z|      [0.025      0.975]\n",
      "---------------------------------------------------------------------------------------\n",
      "Intercept               1.1387      0.006    184.928      0.000       1.127       1.151\n",
      "OwnRent[T.Outright]    -0.2659      0.051     -5.182      0.000      -0.367      -0.165\n",
      "OwnRent[T.Rented]      -0.1237      0.012     -9.996      0.000      -0.148      -0.099\n",
      "HouseCosts           6.217e-05   2.96e-06     21.017      0.000    5.64e-05     6.8e-05\n",
      "=======================================================================================\n"
     ]
    }
   ],
   "source": [
    "model = smf.poisson(\"NumBedrooms ~ HouseCosts + OwnRent\", data=acs)\n",
    "results = model.fit()\n",
    "\n",
    "print(results.summary())"
   ]
  },
  {
   "cell_type": "code",
   "execution_count": 22,
   "metadata": {},
   "outputs": [
    {
     "name": "stderr",
     "output_type": "stream",
     "text": [
      "c:\\Users\\franj\\anaconda3\\Lib\\site-packages\\statsmodels\\genmod\\families\\links.py:13: FutureWarning: The log link alias is deprecated. Use Log instead. The log link alias will be removed after the 0.15.0 release.\n",
      "  warnings.warn(\n"
     ]
    }
   ],
   "source": [
    "import statsmodels.api as sm\n",
    "import statsmodels.formula.api as smf\n",
    "\n",
    "model = smf.glm(\n",
    "    \"NumBedrooms ~ HouseCosts + OwnRent\",\n",
    "    data=acs,\n",
    "    family=sm.families.Poisson(sm.genmod.families.links.log()),\n",
    ").fit()"
   ]
  },
  {
   "cell_type": "code",
   "execution_count": 23,
   "metadata": {},
   "outputs": [
    {
     "name": "stdout",
     "output_type": "stream",
     "text": [
      "                          Poisson Regression Results                          \n",
      "==============================================================================\n",
      "Dep. Variable:            NumBedrooms   No. Observations:                22745\n",
      "Model:                        Poisson   Df Residuals:                    22741\n",
      "Method:                           MLE   Df Model:                            3\n",
      "Date:                Tue, 25 Mar 2025   Pseudo R-squ.:                0.008309\n",
      "Time:                        19:26:30   Log-Likelihood:                -38234.\n",
      "converged:                       True   LL-Null:                       -38555.\n",
      "Covariance Type:            nonrobust   LLR p-value:                1.512e-138\n",
      "=======================================================================================\n",
      "                          coef    std err          z      P>|z|      [0.025      0.975]\n",
      "---------------------------------------------------------------------------------------\n",
      "Intercept               1.1387      0.006    184.928      0.000       1.127       1.151\n",
      "OwnRent[T.Outright]    -0.2659      0.051     -5.182      0.000      -0.367      -0.165\n",
      "OwnRent[T.Rented]      -0.1237      0.012     -9.996      0.000      -0.148      -0.099\n",
      "HouseCosts           6.217e-05   2.96e-06     21.017      0.000    5.64e-05     6.8e-05\n",
      "=======================================================================================\n"
     ]
    }
   ],
   "source": [
    "print(results.summary())"
   ]
  },
  {
   "cell_type": "code",
   "execution_count": 24,
   "metadata": {},
   "outputs": [
    {
     "data": {
      "text/plain": [
       "<Axes: xlabel='NumPeople', ylabel='count'>"
      ]
     },
     "execution_count": 24,
     "metadata": {},
     "output_type": "execute_result"
    },
    {
     "data": {
      "image/png": "[encoded data removed]",
      "text/plain": [
       "<Figure size 640x480 with 1 Axes>"
      ]
     },
     "metadata": {},
     "output_type": "display_data"
    }
   ],
   "source": [
    "# negative binomial regression for overdispersion\n",
    "\n",
    "fig, ax = plt.subplots()\n",
    "\n",
    "sns.countplot(data = acs, x = \"NumPeople\", ax=ax)"
   ]
  },
  {
   "cell_type": "code",
   "execution_count": 26,
   "metadata": {},
   "outputs": [
    {
     "name": "stdout",
     "output_type": "stream",
     "text": [
      "                 Generalized Linear Model Regression Results                  \n",
      "==============================================================================\n",
      "Dep. Variable:              NumPeople   No. Observations:                22745\n",
      "Model:                            GLM   Df Residuals:                    22741\n",
      "Model Family:        NegativeBinomial   Df Model:                            3\n",
      "Link Function:                    log   Scale:                          1.0000\n",
      "Method:                          IRLS   Log-Likelihood:                -53542.\n",
      "Date:                Tue, 25 Mar 2025   Deviance:                       2605.6\n",
      "Time:                        19:30:38   Pearson chi2:                 2.99e+03\n",
      "No. Iterations:                     6   Pseudo R-squ. (CS):           0.003504\n",
      "Covariance Type:            nonrobust                                         \n",
      "==================================================================================\n",
      "                     coef    std err          z      P>|z|      [0.025      0.975]\n",
      "----------------------------------------------------------------------------------\n",
      "Intercept          1.0418      0.025     41.580      0.000       0.993       1.091\n",
      "Acres[T.10+]      -0.0225      0.040     -0.564      0.573      -0.101       0.056\n",
      "Acres[T.Sub 1]     0.0509      0.019      2.671      0.008       0.014       0.088\n",
      "NumVehicles        0.0661      0.008      8.423      0.000       0.051       0.081\n",
      "==================================================================================\n"
     ]
    },
    {
     "name": "stderr",
     "output_type": "stream",
     "text": [
      "c:\\Users\\franj\\anaconda3\\Lib\\site-packages\\statsmodels\\genmod\\families\\links.py:13: FutureWarning: The log link alias is deprecated. Use Log instead. The log link alias will be removed after the 0.15.0 release.\n",
      "  warnings.warn(\n",
      "c:\\Users\\franj\\anaconda3\\Lib\\site-packages\\statsmodels\\genmod\\families\\family.py:1367: ValueWarning: Negative binomial dispersion parameter alpha not set. Using default value alpha=1.0.\n",
      "  warnings.warn(\"Negative binomial dispersion parameter alpha not \"\n"
     ]
    }
   ],
   "source": [
    "ax.set_title('Number of People')\n",
    "ax.set_xlabel('Number of People in a House')\n",
    "ax.set_ylabel('Count')\n",
    "\n",
    "plt.show()\n",
    "\n",
    "model = smf.glm(\"NumPeople ~ Acres + NumVehicles\", data=acs, family=sm.families.NegativeBinomial(sm.genmod.families.links.log()))\n",
    "results = model.fit()\n",
    "\n",
    "print(results.summary())"
   ]
  },
  {
   "cell_type": "code",
   "execution_count": 27,
   "metadata": {},
   "outputs": [
    {
     "name": "stdout",
     "output_type": "stream",
     "text": [
      "Acres\n",
      "Sub 1    17114\n",
      "1-10      4627\n",
      "10+       1004\n",
      "Name: count, dtype: int64\n"
     ]
    }
   ],
   "source": [
    "print(acs[\"Acres\"].value_counts())"
   ]
  }
 ],
 "metadata": {
  "kernelspec": {
   "display_name": "base",
   "language": "python",
   "name": "python3"
  },
  "language_info": {
   "codemirror_mode": {
    "name": "ipython",
    "version": 3
   },
   "file_extension": ".py",
   "mimetype": "text/x-python",
   "name": "python",
   "nbconvert_exporter": "python",
   "pygments_lexer": "ipython3",
   "version": "3.11.5"
  }
 },
 "nbformat": 4,
 "nbformat_minor": 2
}
