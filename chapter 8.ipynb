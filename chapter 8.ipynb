{
 "cells": [
  {
   "cell_type": "markdown",
   "metadata": {},
   "source": [
    "Chapter 8 -  Groupby Operations: Split-Apply-Combine"
   ]
  },
  {
   "cell_type": "code",
   "execution_count": 2,
   "metadata": {},
   "outputs": [],
   "source": [
    "import pandas as pd\n",
    "import seaborn as sns"
   ]
  },
  {
   "cell_type": "code",
   "execution_count": 3,
   "metadata": {},
   "outputs": [
    {
     "data": {
      "application/vnd.microsoft.datawrangler.viewer.v0+json": {
       "columns": [
        {
         "name": "index",
         "rawType": "int64",
         "type": "integer"
        },
        {
         "name": "country",
         "rawType": "object",
         "type": "string"
        },
        {
         "name": "continent",
         "rawType": "object",
         "type": "string"
        },
        {
         "name": "year",
         "rawType": "int64",
         "type": "integer"
        },
        {
         "name": "lifeExp",
         "rawType": "float64",
         "type": "float"
        },
        {
         "name": "pop",
         "rawType": "int64",
         "type": "integer"
        },
        {
         "name": "gdpPercap",
         "rawType": "float64",
         "type": "float"
        }
       ],
       "conversionMethod": "pd.DataFrame",
       "ref": "812ccee6-3835-4f69-91c7-be78214e0f34",
       "rows": [
        [
         "0",
         "Afghanistan",
         "Asia",
         "1952",
         "28.801",
         "8425333",
         "779.4453145"
        ],
        [
         "1",
         "Afghanistan",
         "Asia",
         "1957",
         "30.332",
         "9240934",
         "820.8530296"
        ],
        [
         "2",
         "Afghanistan",
         "Asia",
         "1962",
         "31.997",
         "10267083",
         "853.10071"
        ],
        [
         "3",
         "Afghanistan",
         "Asia",
         "1967",
         "34.02",
         "11537966",
         "836.1971382"
        ],
        [
         "4",
         "Afghanistan",
         "Asia",
         "1972",
         "36.088",
         "13079460",
         "739.9811058"
        ],
        [
         "5",
         "Afghanistan",
         "Asia",
         "1977",
         "38.438",
         "14880372",
         "786.11336"
        ],
        [
         "6",
         "Afghanistan",
         "Asia",
         "1982",
         "39.854",
         "12881816",
         "978.0114388"
        ],
        [
         "7",
         "Afghanistan",
         "Asia",
         "1987",
         "40.822",
         "13867957",
         "852.3959448"
        ],
        [
         "8",
         "Afghanistan",
         "Asia",
         "1992",
         "41.674",
         "16317921",
         "649.3413952"
        ],
        [
         "9",
         "Afghanistan",
         "Asia",
         "1997",
         "41.763",
         "22227415",
         "635.341351"
        ],
        [
         "10",
         "Afghanistan",
         "Asia",
         "2002",
         "42.129",
         "25268405",
         "726.7340548"
        ],
        [
         "11",
         "Afghanistan",
         "Asia",
         "2007",
         "43.828",
         "31889923",
         "974.5803384"
        ],
        [
         "12",
         "Albania",
         "Europe",
         "1952",
         "55.23",
         "1282697",
         "1601.056136"
        ],
        [
         "13",
         "Albania",
         "Europe",
         "1957",
         "59.28",
         "1476505",
         "1942.284244"
        ],
        [
         "14",
         "Albania",
         "Europe",
         "1962",
         "64.82",
         "1728137",
         "2312.888958"
        ],
        [
         "15",
         "Albania",
         "Europe",
         "1967",
         "66.22",
         "1984060",
         "2760.196931"
        ],
        [
         "16",
         "Albania",
         "Europe",
         "1972",
         "67.69",
         "2263554",
         "3313.422188"
        ],
        [
         "17",
         "Albania",
         "Europe",
         "1977",
         "68.93",
         "2509048",
         "3533.00391"
        ],
        [
         "18",
         "Albania",
         "Europe",
         "1982",
         "70.42",
         "2780097",
         "3630.880722"
        ],
        [
         "19",
         "Albania",
         "Europe",
         "1987",
         "72.0",
         "3075321",
         "3738.932735"
        ],
        [
         "20",
         "Albania",
         "Europe",
         "1992",
         "71.581",
         "3326498",
         "2497.437901"
        ],
        [
         "21",
         "Albania",
         "Europe",
         "1997",
         "72.95",
         "3428038",
         "3193.054604"
        ],
        [
         "22",
         "Albania",
         "Europe",
         "2002",
         "75.651",
         "3508512",
         "4604.211737"
        ],
        [
         "23",
         "Albania",
         "Europe",
         "2007",
         "76.423",
         "3600523",
         "5937.029526"
        ],
        [
         "24",
         "Algeria",
         "Africa",
         "1952",
         "43.077",
         "9279525",
         "2449.008185"
        ],
        [
         "25",
         "Algeria",
         "Africa",
         "1957",
         "45.685",
         "10270856",
         "3013.976023"
        ],
        [
         "26",
         "Algeria",
         "Africa",
         "1962",
         "48.303",
         "11000948",
         "2550.81688"
        ],
        [
         "27",
         "Algeria",
         "Africa",
         "1967",
         "51.407",
         "12760499",
         "3246.991771"
        ],
        [
         "28",
         "Algeria",
         "Africa",
         "1972",
         "54.518",
         "14760787",
         "4182.663766"
        ],
        [
         "29",
         "Algeria",
         "Africa",
         "1977",
         "58.014",
         "17152804",
         "4910.416756"
        ],
        [
         "30",
         "Algeria",
         "Africa",
         "1982",
         "61.368",
         "20033753",
         "5745.160213"
        ],
        [
         "31",
         "Algeria",
         "Africa",
         "1987",
         "65.799",
         "23254956",
         "5681.358539"
        ],
        [
         "32",
         "Algeria",
         "Africa",
         "1992",
         "67.744",
         "26298373",
         "5023.216647"
        ],
        [
         "33",
         "Algeria",
         "Africa",
         "1997",
         "69.152",
         "29072015",
         "4797.295051"
        ],
        [
         "34",
         "Algeria",
         "Africa",
         "2002",
         "70.994",
         "31287142",
         "5288.040382"
        ],
        [
         "35",
         "Algeria",
         "Africa",
         "2007",
         "72.301",
         "33333216",
         "6223.367465"
        ],
        [
         "36",
         "Angola",
         "Africa",
         "1952",
         "30.015",
         "4232095",
         "3520.610273"
        ],
        [
         "37",
         "Angola",
         "Africa",
         "1957",
         "31.999",
         "4561361",
         "3827.940465"
        ],
        [
         "38",
         "Angola",
         "Africa",
         "1962",
         "34.0",
         "4826015",
         "4269.276742"
        ],
        [
         "39",
         "Angola",
         "Africa",
         "1967",
         "35.985",
         "5247469",
         "5522.776375"
        ],
        [
         "40",
         "Angola",
         "Africa",
         "1972",
         "37.928",
         "5894858",
         "5473.288005"
        ],
        [
         "41",
         "Angola",
         "Africa",
         "1977",
         "39.483",
         "6162675",
         "3008.647355"
        ],
        [
         "42",
         "Angola",
         "Africa",
         "1982",
         "39.942",
         "7016384",
         "2756.953672"
        ],
        [
         "43",
         "Angola",
         "Africa",
         "1987",
         "39.906",
         "7874230",
         "2430.208311"
        ],
        [
         "44",
         "Angola",
         "Africa",
         "1992",
         "40.647",
         "8735988",
         "2627.845685"
        ],
        [
         "45",
         "Angola",
         "Africa",
         "1997",
         "40.963",
         "9875024",
         "2277.140884"
        ],
        [
         "46",
         "Angola",
         "Africa",
         "2002",
         "41.003",
         "10866106",
         "2773.287312"
        ],
        [
         "47",
         "Angola",
         "Africa",
         "2007",
         "42.731",
         "12420476",
         "4797.231267"
        ],
        [
         "48",
         "Argentina",
         "Americas",
         "1952",
         "62.485",
         "17876956",
         "5911.315053"
        ],
        [
         "49",
         "Argentina",
         "Americas",
         "1957",
         "64.399",
         "19610538",
         "6856.856212"
        ]
       ],
       "shape": {
        "columns": 6,
        "rows": 1704
       }
      },
      "text/html": [
       "<div>\n",
       "<style scoped>\n",
       "    .dataframe tbody tr th:only-of-type {\n",
       "        vertical-align: middle;\n",
       "    }\n",
       "\n",
       "    .dataframe tbody tr th {\n",
       "        vertical-align: top;\n",
       "    }\n",
       "\n",
       "    .dataframe thead th {\n",
       "        text-align: right;\n",
       "    }\n",
       "</style>\n",
       "<table border=\"1\" class=\"dataframe\">\n",
       "  <thead>\n",
       "    <tr style=\"text-align: right;\">\n",
       "      <th></th>\n",
       "      <th>country</th>\n",
       "      <th>continent</th>\n",
       "      <th>year</th>\n",
       "      <th>lifeExp</th>\n",
       "      <th>pop</th>\n",
       "      <th>gdpPercap</th>\n",
       "    </tr>\n",
       "  </thead>\n",
       "  <tbody>\n",
       "    <tr>\n",
       "      <th>0</th>\n",
       "      <td>Afghanistan</td>\n",
       "      <td>Asia</td>\n",
       "      <td>1952</td>\n",
       "      <td>28.801</td>\n",
       "      <td>8425333</td>\n",
       "      <td>779.445314</td>\n",
       "    </tr>\n",
       "    <tr>\n",
       "      <th>1</th>\n",
       "      <td>Afghanistan</td>\n",
       "      <td>Asia</td>\n",
       "      <td>1957</td>\n",
       "      <td>30.332</td>\n",
       "      <td>9240934</td>\n",
       "      <td>820.853030</td>\n",
       "    </tr>\n",
       "    <tr>\n",
       "      <th>2</th>\n",
       "      <td>Afghanistan</td>\n",
       "      <td>Asia</td>\n",
       "      <td>1962</td>\n",
       "      <td>31.997</td>\n",
       "      <td>10267083</td>\n",
       "      <td>853.100710</td>\n",
       "    </tr>\n",
       "    <tr>\n",
       "      <th>3</th>\n",
       "      <td>Afghanistan</td>\n",
       "      <td>Asia</td>\n",
       "      <td>1967</td>\n",
       "      <td>34.020</td>\n",
       "      <td>11537966</td>\n",
       "      <td>836.197138</td>\n",
       "    </tr>\n",
       "    <tr>\n",
       "      <th>4</th>\n",
       "      <td>Afghanistan</td>\n",
       "      <td>Asia</td>\n",
       "      <td>1972</td>\n",
       "      <td>36.088</td>\n",
       "      <td>13079460</td>\n",
       "      <td>739.981106</td>\n",
       "    </tr>\n",
       "    <tr>\n",
       "      <th>...</th>\n",
       "      <td>...</td>\n",
       "      <td>...</td>\n",
       "      <td>...</td>\n",
       "      <td>...</td>\n",
       "      <td>...</td>\n",
       "      <td>...</td>\n",
       "    </tr>\n",
       "    <tr>\n",
       "      <th>1699</th>\n",
       "      <td>Zimbabwe</td>\n",
       "      <td>Africa</td>\n",
       "      <td>1987</td>\n",
       "      <td>62.351</td>\n",
       "      <td>9216418</td>\n",
       "      <td>706.157306</td>\n",
       "    </tr>\n",
       "    <tr>\n",
       "      <th>1700</th>\n",
       "      <td>Zimbabwe</td>\n",
       "      <td>Africa</td>\n",
       "      <td>1992</td>\n",
       "      <td>60.377</td>\n",
       "      <td>10704340</td>\n",
       "      <td>693.420786</td>\n",
       "    </tr>\n",
       "    <tr>\n",
       "      <th>1701</th>\n",
       "      <td>Zimbabwe</td>\n",
       "      <td>Africa</td>\n",
       "      <td>1997</td>\n",
       "      <td>46.809</td>\n",
       "      <td>11404948</td>\n",
       "      <td>792.449960</td>\n",
       "    </tr>\n",
       "    <tr>\n",
       "      <th>1702</th>\n",
       "      <td>Zimbabwe</td>\n",
       "      <td>Africa</td>\n",
       "      <td>2002</td>\n",
       "      <td>39.989</td>\n",
       "      <td>11926563</td>\n",
       "      <td>672.038623</td>\n",
       "    </tr>\n",
       "    <tr>\n",
       "      <th>1703</th>\n",
       "      <td>Zimbabwe</td>\n",
       "      <td>Africa</td>\n",
       "      <td>2007</td>\n",
       "      <td>43.487</td>\n",
       "      <td>12311143</td>\n",
       "      <td>469.709298</td>\n",
       "    </tr>\n",
       "  </tbody>\n",
       "</table>\n",
       "<p>1704 rows × 6 columns</p>\n",
       "</div>"
      ],
      "text/plain": [
       "          country continent  year  lifeExp       pop   gdpPercap\n",
       "0     Afghanistan      Asia  1952   28.801   8425333  779.445314\n",
       "1     Afghanistan      Asia  1957   30.332   9240934  820.853030\n",
       "2     Afghanistan      Asia  1962   31.997  10267083  853.100710\n",
       "3     Afghanistan      Asia  1967   34.020  11537966  836.197138\n",
       "4     Afghanistan      Asia  1972   36.088  13079460  739.981106\n",
       "...           ...       ...   ...      ...       ...         ...\n",
       "1699     Zimbabwe    Africa  1987   62.351   9216418  706.157306\n",
       "1700     Zimbabwe    Africa  1992   60.377  10704340  693.420786\n",
       "1701     Zimbabwe    Africa  1997   46.809  11404948  792.449960\n",
       "1702     Zimbabwe    Africa  2002   39.989  11926563  672.038623\n",
       "1703     Zimbabwe    Africa  2007   43.487  12311143  469.709298\n",
       "\n",
       "[1704 rows x 6 columns]"
      ]
     },
     "execution_count": 3,
     "metadata": {},
     "output_type": "execute_result"
    }
   ],
   "source": [
    "df = pd.read_csv('C:/Users/franj/notebooks/pandas for everyone/pandas-for-everyone/data/gapminder.tsv', sep='\\t')\n",
    "df"
   ]
  },
  {
   "cell_type": "code",
   "execution_count": 4,
   "metadata": {},
   "outputs": [
    {
     "name": "stdout",
     "output_type": "stream",
     "text": [
      "year\n",
      "1952    49.057620\n",
      "1957    51.507401\n",
      "1962    53.609249\n",
      "1967    55.678290\n",
      "1972    57.647386\n",
      "1977    59.570157\n",
      "1982    61.533197\n",
      "1987    63.212613\n",
      "1992    64.160338\n",
      "1997    65.014676\n",
      "2002    65.694923\n",
      "2007    67.007423\n",
      "Name: lifeExp, dtype: float64\n"
     ]
    }
   ],
   "source": [
    "# calculate the average life expectancy for each year\n",
    "avg_life_exp_by_year = df.groupby('year')['lifeExp'].mean()\n",
    "print(avg_life_exp_by_year)"
   ]
  },
  {
   "cell_type": "code",
   "execution_count": 5,
   "metadata": {},
   "outputs": [
    {
     "name": "stdout",
     "output_type": "stream",
     "text": [
      "[1952 1957 1962 1967 1972 1977 1982 1987 1992 1997 2002 2007]\n"
     ]
    }
   ],
   "source": [
    "# get the unique values of the year column\n",
    "years = df.year.unique()\n",
    "print(years)"
   ]
  },
  {
   "cell_type": "code",
   "execution_count": 6,
   "metadata": {},
   "outputs": [
    {
     "name": "stdout",
     "output_type": "stream",
     "text": [
      "                 country continent  year  lifeExp       pop    gdpPercap\n",
      "0            Afghanistan      Asia  1952   28.801   8425333   779.445314\n",
      "12               Albania    Europe  1952   55.230   1282697  1601.056136\n",
      "24               Algeria    Africa  1952   43.077   9279525  2449.008185\n",
      "36                Angola    Africa  1952   30.015   4232095  3520.610273\n",
      "48             Argentina  Americas  1952   62.485  17876956  5911.315053\n",
      "...                  ...       ...   ...      ...       ...          ...\n",
      "1644             Vietnam      Asia  1952   40.412  26246839   605.066492\n",
      "1656  West Bank and Gaza      Asia  1952   43.160   1030585  1515.592329\n",
      "1668         Yemen, Rep.      Asia  1952   32.548   4963829   781.717576\n",
      "1680              Zambia    Africa  1952   42.038   2672000  1147.388831\n",
      "1692            Zimbabwe    Africa  1952   48.451   3080907   406.884115\n",
      "\n",
      "[142 rows x 6 columns]\n"
     ]
    }
   ],
   "source": [
    "# subset the data for the year 1952\n",
    "y1952 = df.loc[df.year == 1952, :]\n",
    "print(y1952)"
   ]
  },
  {
   "cell_type": "code",
   "execution_count": 7,
   "metadata": {},
   "outputs": [
    {
     "name": "stdout",
     "output_type": "stream",
     "text": [
      "49.057619718309866\n"
     ]
    }
   ],
   "source": [
    "y1952_mean = y1952[\"lifeExp\"].mean()\n",
    "print(y1952_mean)"
   ]
  },
  {
   "cell_type": "code",
   "execution_count": 8,
   "metadata": {},
   "outputs": [
    {
     "name": "stdout",
     "output_type": "stream",
     "text": [
      "           count       mean        std     min       25%      50%       75%  \\\n",
      "continent                                                                     \n",
      "Africa     624.0  48.865330   9.150210  23.599  42.37250  47.7920  54.41150   \n",
      "Americas   300.0  64.658737   9.345088  37.579  58.41000  67.0480  71.69950   \n",
      "Asia       396.0  60.064903  11.864532  28.801  51.42625  61.7915  69.50525   \n",
      "Europe     360.0  71.903686   5.433178  43.585  69.57000  72.2410  75.45050   \n",
      "Oceania     24.0  74.326208   3.795611  69.120  71.20500  73.6650  77.55250   \n",
      "\n",
      "              max  \n",
      "continent          \n",
      "Africa     76.442  \n",
      "Americas   80.653  \n",
      "Asia       82.603  \n",
      "Europe     81.757  \n",
      "Oceania    81.235  \n"
     ]
    }
   ],
   "source": [
    "# group by continent and describe each\n",
    "continent_describe = df.groupby('continent')['lifeExp'].describe()\n",
    "print(continent_describe)"
   ]
  },
  {
   "cell_type": "code",
   "execution_count": 9,
   "metadata": {},
   "outputs": [
    {
     "name": "stdout",
     "output_type": "stream",
     "text": [
      "continent\n",
      "Africa      48.865330\n",
      "Americas    64.658737\n",
      "Asia        60.064903\n",
      "Europe      71.903686\n",
      "Oceania     74.326208\n",
      "Name: lifeExp, dtype: float64\n"
     ]
    }
   ],
   "source": [
    "import numpy as np\n",
    "\n",
    "# calculate the average life expectancy by continent using np.mean\n",
    "continent_mean = df.groupby('continent')['lifeExp'].agg(np.mean)\n",
    "print(continent_mean)"
   ]
  },
  {
   "cell_type": "code",
   "execution_count": 10,
   "metadata": {},
   "outputs": [],
   "source": [
    "def my_mean(values):\n",
    "    n = len(values)\n",
    "    sum = 0\n",
    "    for value in values:\n",
    "        sum += value\n",
    "    return sum / n"
   ]
  },
  {
   "cell_type": "code",
   "execution_count": 11,
   "metadata": {},
   "outputs": [
    {
     "name": "stdout",
     "output_type": "stream",
     "text": [
      "continent\n",
      "Africa      48.865330\n",
      "Americas    64.658737\n",
      "Asia        60.064903\n",
      "Europe      71.903686\n",
      "Oceania     74.326208\n",
      "Name: lifeExp, dtype: float64\n"
     ]
    }
   ],
   "source": [
    "# use custom function to agg\n",
    "agg_my_mean = df.groupby('continent')['lifeExp'].agg(my_mean)\n",
    "print(agg_my_mean)"
   ]
  },
  {
   "cell_type": "code",
   "execution_count": 12,
   "metadata": {},
   "outputs": [
    {
     "name": "stdout",
     "output_type": "stream",
     "text": [
      "59.474439366197174\n"
     ]
    }
   ],
   "source": [
    "def my_mean_diff(values, diff_value):\n",
    "    n = len(values)\n",
    "    sum = 0\n",
    "    for value in values:\n",
    "        sum += value\n",
    "    mean = sum / n\n",
    "    return (mean - diff_value)\n",
    "\n",
    "# calculate the global average life expectancy\n",
    "global_mean = df['lifeExp'].mean()\n",
    "print(global_mean)"
   ]
  },
  {
   "cell_type": "code",
   "execution_count": 13,
   "metadata": {},
   "outputs": [
    {
     "name": "stdout",
     "output_type": "stream",
     "text": [
      "year\n",
      "1952   -10.416820\n",
      "1957    -7.967038\n",
      "1962    -5.865190\n",
      "1967    -3.796150\n",
      "1972    -1.827053\n",
      "1977     0.095718\n",
      "1982     2.058758\n",
      "1987     3.738173\n",
      "1992     4.685899\n",
      "1997     5.540237\n",
      "2002     6.220483\n",
      "2007     7.532983\n",
      "Name: lifeExp, dtype: float64\n"
     ]
    }
   ],
   "source": [
    "# custom aggregation function with multiple parameters\n",
    "agg_mean_diff = df.groupby('year')['lifeExp'].agg(my_mean_diff, diff_value = global_mean)\n",
    "print(agg_mean_diff)"
   ]
  },
  {
   "cell_type": "code",
   "execution_count": 14,
   "metadata": {},
   "outputs": [
    {
     "name": "stdout",
     "output_type": "stream",
     "text": [
      "      count_nonzero       mean        std\n",
      "year                                     \n",
      "1952            142  49.057620  12.225956\n",
      "1957            142  51.507401  12.231286\n",
      "1962            142  53.609249  12.097245\n",
      "1967            142  55.678290  11.718858\n",
      "1972            142  57.647386  11.381953\n",
      "1977            142  59.570157  11.227229\n",
      "1982            142  61.533197  10.770618\n",
      "1987            142  63.212613  10.556285\n",
      "1992            142  64.160338  11.227380\n",
      "1997            142  65.014676  11.559439\n",
      "2002            142  65.694923  12.279823\n",
      "2007            142  67.007423  12.073021\n"
     ]
    }
   ],
   "source": [
    "# calculate the count, mean, and std deviation of life expectancy by continent\n",
    "gdf = (df.groupby(\"year\")[\"lifeExp\"].agg([np.count_nonzero, np.mean, np.std]))\n",
    "print(gdf)"
   ]
  },
  {
   "cell_type": "code",
   "execution_count": 15,
   "metadata": {},
   "outputs": [
    {
     "name": "stdout",
     "output_type": "stream",
     "text": [
      "        lifeExp         pop    gdpPercap\n",
      "year                                    \n",
      "1952  49.057620   3943953.0  1968.528344\n",
      "1957  51.507401   4282942.0  2173.220291\n",
      "1962  53.609249   4686039.5  2335.439533\n",
      "1967  55.678290   5170175.5  2678.334740\n",
      "1972  57.647386   5877996.5  3339.129407\n",
      "1977  59.570157   6404036.5  3798.609244\n",
      "1982  61.533197   7007320.0  4216.228428\n",
      "1987  63.212613   7774861.5  4280.300366\n",
      "1992  64.160338   8688686.5  4386.085502\n",
      "1997  65.014676   9735063.5  4781.825478\n",
      "2002  65.694923  10372918.5  5319.804524\n",
      "2007  67.007423  10517531.0  6124.371108\n"
     ]
    }
   ],
   "source": [
    "# using a dict in .agg\n",
    "# dataframe\n",
    "gdf_dict = df.groupby(\"year\").agg({\n",
    "    \"lifeExp\": \"mean\",\n",
    "    \"pop\": \"median\",\n",
    "    \"gdpPercap\": \"median\"\n",
    "})\n",
    "print(gdf_dict)"
   ]
  },
  {
   "cell_type": "code",
   "execution_count": 16,
   "metadata": {},
   "outputs": [
    {
     "name": "stdout",
     "output_type": "stream",
     "text": [
      "    year  count        avg    std_dev\n",
      "0   1952    142  49.057620  12.225956\n",
      "1   1957    142  51.507401  12.231286\n",
      "2   1962    142  53.609249  12.097245\n",
      "3   1967    142  55.678290  11.718858\n",
      "4   1972    142  57.647386  11.381953\n",
      "5   1977    142  59.570157  11.227229\n",
      "6   1982    142  61.533197  10.770618\n",
      "7   1987    142  63.212613  10.556285\n",
      "8   1992    142  64.160338  11.227380\n",
      "9   1997    142  65.014676  11.559439\n",
      "10  2002    142  65.694923  12.279823\n",
      "11  2007    142  67.007423  12.073021\n"
     ]
    }
   ],
   "source": [
    "# series\n",
    "gdf = (df.groupby(\"year\")[\"lifeExp\"].agg([np.count_nonzero, np.mean, np.std]).rename(columns = {\"count_nonzero\": \"count\", \"mean\": \"avg\", \"std\": \"std_dev\"}).reset_index())\n",
    "print(gdf)"
   ]
  },
  {
   "cell_type": "code",
   "execution_count": 17,
   "metadata": {},
   "outputs": [],
   "source": [
    "# z-score\n",
    "def my_zscore(x):\n",
    "    return (x - x.mean()) / x.std()"
   ]
  },
  {
   "cell_type": "code",
   "execution_count": 18,
   "metadata": {},
   "outputs": [
    {
     "name": "stdout",
     "output_type": "stream",
     "text": [
      "0      -1.656854\n",
      "1      -1.731249\n",
      "2      -1.786543\n",
      "3      -1.848157\n",
      "4      -1.894173\n",
      "          ...   \n",
      "1699   -0.081621\n",
      "1700   -0.336974\n",
      "1701   -1.574962\n",
      "1702   -2.093346\n",
      "1703   -1.948180\n",
      "Name: lifeExp, Length: 1704, dtype: float64\n"
     ]
    }
   ],
   "source": [
    "transform_z = df.groupby(\"year\")[\"lifeExp\"].transform(my_zscore)\n",
    "print(transform_z)"
   ]
  },
  {
   "cell_type": "code",
   "execution_count": 19,
   "metadata": {},
   "outputs": [
    {
     "name": "stdout",
     "output_type": "stream",
     "text": [
      "0      -1.662719\n",
      "1      -1.737377\n",
      "2      -1.792867\n",
      "3      -1.854699\n",
      "4      -1.900878\n",
      "          ...   \n",
      "1699   -0.081910\n",
      "1700   -0.338167\n",
      "1701   -1.580537\n",
      "1702   -2.100756\n",
      "1703   -1.955077\n",
      "Name: lifeExp, Length: 1704, dtype: float64\n"
     ]
    }
   ],
   "source": [
    "from scipy.stats import zscore\n",
    "\n",
    "# z-score using scipy\n",
    "sp_z_grouped = df.groupby(\"year\")[\"lifeExp\"].transform(zscore)\n",
    "\n",
    "print(sp_z_grouped)"
   ]
  },
  {
   "cell_type": "code",
   "execution_count": 20,
   "metadata": {},
   "outputs": [
    {
     "name": "stdout",
     "output_type": "stream",
     "text": [
      "(244, 7)\n"
     ]
    }
   ],
   "source": [
    "tips = sns.load_dataset('tips')\n",
    "\n",
    "print(tips.shape)"
   ]
  },
  {
   "cell_type": "code",
   "execution_count": 21,
   "metadata": {},
   "outputs": [
    {
     "name": "stdout",
     "output_type": "stream",
     "text": [
      "size\n",
      "2    156\n",
      "3     38\n",
      "4     37\n",
      "5      5\n",
      "1      4\n",
      "6      4\n",
      "Name: count, dtype: int64\n"
     ]
    }
   ],
   "source": [
    "# look at the frequency counts for the table size\n",
    "print(tips['size'].value_counts())"
   ]
  },
  {
   "cell_type": "code",
   "execution_count": 22,
   "metadata": {},
   "outputs": [],
   "source": [
    "tips_filtered = tips.groupby('size').filter(lambda x: x['size'].count() >= 30)"
   ]
  },
  {
   "cell_type": "code",
   "execution_count": 23,
   "metadata": {},
   "outputs": [
    {
     "name": "stdout",
     "output_type": "stream",
     "text": [
      "(231, 7)\n"
     ]
    }
   ],
   "source": [
    "print(tips_filtered.shape)"
   ]
  },
  {
   "cell_type": "code",
   "execution_count": 24,
   "metadata": {},
   "outputs": [
    {
     "name": "stdout",
     "output_type": "stream",
     "text": [
      "size\n",
      "2    156\n",
      "3     38\n",
      "4     37\n",
      "Name: count, dtype: int64\n"
     ]
    }
   ],
   "source": [
    "print(tips_filtered['size'].value_counts())"
   ]
  },
  {
   "cell_type": "code",
   "execution_count": 25,
   "metadata": {},
   "outputs": [
    {
     "name": "stdout",
     "output_type": "stream",
     "text": [
      "     total_bill   tip     sex smoker   day    time  size\n",
      "103       22.42  3.48  Female    Yes   Sat  Dinner     2\n",
      "215       12.90  1.10  Female    Yes   Sat  Dinner     2\n",
      "144       16.43  2.30  Female     No  Thur   Lunch     2\n",
      "68        20.23  2.01    Male     No   Sat  Dinner     2\n",
      "112       38.07  4.00    Male     No   Sun  Dinner     3\n",
      "151       13.13  2.00    Male     No   Sun  Dinner     2\n",
      "108       18.24  3.76    Male     No   Sat  Dinner     2\n",
      "127       14.52  2.00  Female     No  Thur   Lunch     2\n",
      "25        17.81  2.34    Male     No   Sat  Dinner     4\n",
      "77        27.20  4.00    Male     No  Thur   Lunch     4\n"
     ]
    }
   ],
   "source": [
    "tips_10 = sns.load_dataset('tips').sample(10, random_state=24)\n",
    "print(tips_10)"
   ]
  },
  {
   "cell_type": "code",
   "execution_count": 26,
   "metadata": {},
   "outputs": [
    {
     "name": "stdout",
     "output_type": "stream",
     "text": [
      "<pandas.core.groupby.generic.DataFrameGroupBy object at 0x00000263F3BFE310>\n"
     ]
    }
   ],
   "source": [
    "grouped = tips_10.groupby(\"sex\")\n",
    "\n",
    "print(grouped)"
   ]
  },
  {
   "cell_type": "code",
   "execution_count": 27,
   "metadata": {},
   "outputs": [
    {
     "name": "stdout",
     "output_type": "stream",
     "text": [
      "{'Male': [68, 112, 151, 108, 25, 77], 'Female': [103, 215, 144, 127]}\n"
     ]
    }
   ],
   "source": [
    "# see the actual groups of the groupby\n",
    "print(grouped.groups)"
   ]
  },
  {
   "cell_type": "code",
   "execution_count": 29,
   "metadata": {},
   "outputs": [
    {
     "name": "stdout",
     "output_type": "stream",
     "text": [
      "     total_bill   tip     sex smoker   day    time  size\n",
      "103       22.42  3.48  Female    Yes   Sat  Dinner     2\n",
      "215       12.90  1.10  Female    Yes   Sat  Dinner     2\n",
      "144       16.43  2.30  Female     No  Thur   Lunch     2\n",
      "127       14.52  2.00  Female     No  Thur   Lunch     2\n"
     ]
    }
   ],
   "source": [
    "# get the female group\n",
    "female = grouped.get_group(\"Female\")\n",
    "print(female)"
   ]
  },
  {
   "cell_type": "code",
   "execution_count": 30,
   "metadata": {},
   "outputs": [
    {
     "name": "stdout",
     "output_type": "stream",
     "text": [
      "('Male',      total_bill   tip   sex smoker   day    time  size\n",
      "68        20.23  2.01  Male     No   Sat  Dinner     2\n",
      "112       38.07  4.00  Male     No   Sun  Dinner     3\n",
      "151       13.13  2.00  Male     No   Sun  Dinner     2\n",
      "108       18.24  3.76  Male     No   Sat  Dinner     2\n",
      "25        17.81  2.34  Male     No   Sat  Dinner     4\n",
      "77        27.20  4.00  Male     No  Thur   Lunch     4)\n",
      "('Female',      total_bill   tip     sex smoker   day    time  size\n",
      "103       22.42  3.48  Female    Yes   Sat  Dinner     2\n",
      "215       12.90  1.10  Female    Yes   Sat  Dinner     2\n",
      "144       16.43  2.30  Female     No  Thur   Lunch     2\n",
      "127       14.52  2.00  Female     No  Thur   Lunch     2)\n"
     ]
    }
   ],
   "source": [
    "for sex_group in grouped:\n",
    "    print(sex_group)"
   ]
  },
  {
   "cell_type": "code",
   "execution_count": 31,
   "metadata": {},
   "outputs": [
    {
     "name": "stdout",
     "output_type": "stream",
     "text": [
      "the type is: <class 'tuple'>\n",
      "\n",
      "the length is: 2\n",
      "\n",
      "the first element is: Male\n",
      "\n",
      "it has a type of: <class 'str'>\n",
      "\n",
      "the second element is:\n",
      "     total_bill   tip   sex smoker   day    time  size\n",
      "68        20.23  2.01  Male     No   Sat  Dinner     2\n",
      "112       38.07  4.00  Male     No   Sun  Dinner     3\n",
      "151       13.13  2.00  Male     No   Sun  Dinner     2\n",
      "108       18.24  3.76  Male     No   Sat  Dinner     2\n",
      "25        17.81  2.34  Male     No   Sat  Dinner     4\n",
      "77        27.20  4.00  Male     No  Thur   Lunch     4\n",
      "\n",
      "it has a type of: <class 'pandas.core.frame.DataFrame'>\n",
      "\n",
      "what we have:\n",
      "('Male',      total_bill   tip   sex smoker   day    time  size\n",
      "68        20.23  2.01  Male     No   Sat  Dinner     2\n",
      "112       38.07  4.00  Male     No   Sun  Dinner     3\n",
      "151       13.13  2.00  Male     No   Sun  Dinner     2\n",
      "108       18.24  3.76  Male     No   Sat  Dinner     2\n",
      "25        17.81  2.34  Male     No   Sat  Dinner     4\n",
      "77        27.20  4.00  Male     No  Thur   Lunch     4)\n"
     ]
    }
   ],
   "source": [
    "for sex_group in grouped:\n",
    "    # get the type of the object (tuple)\n",
    "    print(f'the type is: {type(sex_group)}\\n')\n",
    "\n",
    "    # get the length of the object (2 elements)\n",
    "    print(f'the length is: {len(sex_group)}\\n')\n",
    "\n",
    "    # get the first element\n",
    "    first_element = sex_group[0]\n",
    "    print(f'the first element is: {first_element}\\n')\n",
    "\n",
    "    # the type of the first element (string)\n",
    "    print(f'it has a type of: {type(sex_group[0])}\\n')\n",
    "\n",
    "    # get the second element\n",
    "    second_element = sex_group[1]\n",
    "    print(f'the second element is:\\n{second_element}\\n')\n",
    "\n",
    "    # get the type of the second element (dataframe)\n",
    "    print(f'it has a type of: {type(second_element)}\\n')\n",
    "\n",
    "    # print what we have\n",
    "    print(f'what we have:')\n",
    "    print(sex_group)\n",
    "    \n",
    "    # stop after first iteration\n",
    "    break\n"
   ]
  }
 ],
 "metadata": {
  "kernelspec": {
   "display_name": "base",
   "language": "python",
   "name": "python3"
  },
  "language_info": {
   "codemirror_mode": {
    "name": "ipython",
    "version": 3
   },
   "file_extension": ".py",
   "mimetype": "text/x-python",
   "name": "python",
   "nbconvert_exporter": "python",
   "pygments_lexer": "ipython3",
   "version": "3.11.5"
  }
 },
 "nbformat": 4,
 "nbformat_minor": 2
}
